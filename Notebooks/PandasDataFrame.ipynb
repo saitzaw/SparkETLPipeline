{
 "cells": [
  {
   "cell_type": "code",
   "execution_count": 1,
   "id": "2a7b69ba-3bc1-4c4b-98e8-cddac8a70797",
   "metadata": {},
   "outputs": [],
   "source": [
    "import pandas as pd"
   ]
  },
  {
   "cell_type": "code",
   "execution_count": 2,
   "id": "94975c74-0bc8-483d-bd49-1e0a794072b2",
   "metadata": {},
   "outputs": [],
   "source": [
    "employee_data = {\n",
    "    \"Employee ID\": [1, 2, 3, 4, 5],\n",
    "    \"Name\": [\"Alice\", \"Bob\", \"Carol\", \"Dave\", \"Eve\"],\n",
    "    \"Job Title\": [\"Software Engineer\", \"Data Scientist\", \"Marketing Manager\", \"Sales Manager\", \"Product Manager\"],\n",
    "    \"Department\": [\"Engineering\", \"Data Science\", \"Marketing\", \"Sales\", \"Product\"],\n",
    "    \"Salary\": [100000, 120000, 140000, 160000, 180000],\n",
    "}"
   ]
  },
  {
   "cell_type": "code",
   "execution_count": 3,
   "id": "4c18ab1e-9531-47af-8e7e-cf3ed935c3de",
   "metadata": {},
   "outputs": [],
   "source": [
    "employee_df = pd.DataFrame(employee_data)"
   ]
  },
  {
   "cell_type": "code",
   "execution_count": 4,
   "id": "f3e41426-b5fe-4f5b-8ac8-7069c0b6343f",
   "metadata": {},
   "outputs": [
    {
     "data": {
      "text/html": [
       "<div>\n",
       "<style scoped>\n",
       "    .dataframe tbody tr th:only-of-type {\n",
       "        vertical-align: middle;\n",
       "    }\n",
       "\n",
       "    .dataframe tbody tr th {\n",
       "        vertical-align: top;\n",
       "    }\n",
       "\n",
       "    .dataframe thead th {\n",
       "        text-align: right;\n",
       "    }\n",
       "</style>\n",
       "<table border=\"1\" class=\"dataframe\">\n",
       "  <thead>\n",
       "    <tr style=\"text-align: right;\">\n",
       "      <th></th>\n",
       "      <th>Employee ID</th>\n",
       "      <th>Name</th>\n",
       "      <th>Job Title</th>\n",
       "      <th>Department</th>\n",
       "      <th>Salary</th>\n",
       "    </tr>\n",
       "  </thead>\n",
       "  <tbody>\n",
       "    <tr>\n",
       "      <th>0</th>\n",
       "      <td>1</td>\n",
       "      <td>Alice</td>\n",
       "      <td>Software Engineer</td>\n",
       "      <td>Engineering</td>\n",
       "      <td>100000</td>\n",
       "    </tr>\n",
       "    <tr>\n",
       "      <th>1</th>\n",
       "      <td>2</td>\n",
       "      <td>Bob</td>\n",
       "      <td>Data Scientist</td>\n",
       "      <td>Data Science</td>\n",
       "      <td>120000</td>\n",
       "    </tr>\n",
       "    <tr>\n",
       "      <th>2</th>\n",
       "      <td>3</td>\n",
       "      <td>Carol</td>\n",
       "      <td>Marketing Manager</td>\n",
       "      <td>Marketing</td>\n",
       "      <td>140000</td>\n",
       "    </tr>\n",
       "    <tr>\n",
       "      <th>3</th>\n",
       "      <td>4</td>\n",
       "      <td>Dave</td>\n",
       "      <td>Sales Manager</td>\n",
       "      <td>Sales</td>\n",
       "      <td>160000</td>\n",
       "    </tr>\n",
       "    <tr>\n",
       "      <th>4</th>\n",
       "      <td>5</td>\n",
       "      <td>Eve</td>\n",
       "      <td>Product Manager</td>\n",
       "      <td>Product</td>\n",
       "      <td>180000</td>\n",
       "    </tr>\n",
       "  </tbody>\n",
       "</table>\n",
       "</div>"
      ],
      "text/plain": [
       "   Employee ID   Name          Job Title    Department  Salary\n",
       "0            1  Alice  Software Engineer   Engineering  100000\n",
       "1            2    Bob     Data Scientist  Data Science  120000\n",
       "2            3  Carol  Marketing Manager     Marketing  140000\n",
       "3            4   Dave      Sales Manager         Sales  160000\n",
       "4            5    Eve    Product Manager       Product  180000"
      ]
     },
     "execution_count": 4,
     "metadata": {},
     "output_type": "execute_result"
    }
   ],
   "source": [
    "employee_df"
   ]
  },
  {
   "cell_type": "code",
   "execution_count": 5,
   "id": "3f19fff7-ca54-4324-9553-1fd4b4c61ee0",
   "metadata": {},
   "outputs": [
    {
     "data": {
      "text/plain": [
       "Employee ID    0\n",
       "Name           0\n",
       "Job Title      0\n",
       "Department     0\n",
       "Salary         0\n",
       "dtype: int64"
      ]
     },
     "execution_count": 5,
     "metadata": {},
     "output_type": "execute_result"
    }
   ],
   "source": [
    "employee_df.isnull().sum()"
   ]
  },
  {
   "cell_type": "code",
   "execution_count": 6,
   "id": "174ec327-1774-4384-bbcb-eb2138dbb213",
   "metadata": {},
   "outputs": [
    {
     "data": {
      "text/html": [
       "<div>\n",
       "<style scoped>\n",
       "    .dataframe tbody tr th:only-of-type {\n",
       "        vertical-align: middle;\n",
       "    }\n",
       "\n",
       "    .dataframe tbody tr th {\n",
       "        vertical-align: top;\n",
       "    }\n",
       "\n",
       "    .dataframe thead th {\n",
       "        text-align: right;\n",
       "    }\n",
       "</style>\n",
       "<table border=\"1\" class=\"dataframe\">\n",
       "  <thead>\n",
       "    <tr style=\"text-align: right;\">\n",
       "      <th></th>\n",
       "      <th>Employee ID</th>\n",
       "      <th>Salary</th>\n",
       "    </tr>\n",
       "  </thead>\n",
       "  <tbody>\n",
       "    <tr>\n",
       "      <th>count</th>\n",
       "      <td>5.000000</td>\n",
       "      <td>5.000000</td>\n",
       "    </tr>\n",
       "    <tr>\n",
       "      <th>mean</th>\n",
       "      <td>3.000000</td>\n",
       "      <td>140000.000000</td>\n",
       "    </tr>\n",
       "    <tr>\n",
       "      <th>std</th>\n",
       "      <td>1.581139</td>\n",
       "      <td>31622.776602</td>\n",
       "    </tr>\n",
       "    <tr>\n",
       "      <th>min</th>\n",
       "      <td>1.000000</td>\n",
       "      <td>100000.000000</td>\n",
       "    </tr>\n",
       "    <tr>\n",
       "      <th>25%</th>\n",
       "      <td>2.000000</td>\n",
       "      <td>120000.000000</td>\n",
       "    </tr>\n",
       "    <tr>\n",
       "      <th>50%</th>\n",
       "      <td>3.000000</td>\n",
       "      <td>140000.000000</td>\n",
       "    </tr>\n",
       "    <tr>\n",
       "      <th>75%</th>\n",
       "      <td>4.000000</td>\n",
       "      <td>160000.000000</td>\n",
       "    </tr>\n",
       "    <tr>\n",
       "      <th>max</th>\n",
       "      <td>5.000000</td>\n",
       "      <td>180000.000000</td>\n",
       "    </tr>\n",
       "  </tbody>\n",
       "</table>\n",
       "</div>"
      ],
      "text/plain": [
       "       Employee ID         Salary\n",
       "count     5.000000       5.000000\n",
       "mean      3.000000  140000.000000\n",
       "std       1.581139   31622.776602\n",
       "min       1.000000  100000.000000\n",
       "25%       2.000000  120000.000000\n",
       "50%       3.000000  140000.000000\n",
       "75%       4.000000  160000.000000\n",
       "max       5.000000  180000.000000"
      ]
     },
     "execution_count": 6,
     "metadata": {},
     "output_type": "execute_result"
    }
   ],
   "source": [
    "employee_df.describe()"
   ]
  },
  {
   "cell_type": "code",
   "execution_count": 7,
   "id": "67f0ac16-bc81-4410-b695-081cd4a65a54",
   "metadata": {},
   "outputs": [
    {
     "data": {
      "text/plain": [
       "Employee ID     int64\n",
       "Name           object\n",
       "Job Title      object\n",
       "Department     object\n",
       "Salary          int64\n",
       "dtype: object"
      ]
     },
     "execution_count": 7,
     "metadata": {},
     "output_type": "execute_result"
    }
   ],
   "source": [
    "employee_df.dtypes"
   ]
  },
  {
   "cell_type": "code",
   "execution_count": 8,
   "id": "9cd67c26-d956-4f0b-96f8-7abde09caf44",
   "metadata": {},
   "outputs": [],
   "source": [
    "employee_df.columns = employee_df.columns.str.lower().str.replace(' ', '_')"
   ]
  },
  {
   "cell_type": "code",
   "execution_count": 9,
   "id": "51c20cb9-9a83-489c-b01f-911fd932589a",
   "metadata": {},
   "outputs": [
    {
     "data": {
      "text/html": [
       "<div>\n",
       "<style scoped>\n",
       "    .dataframe tbody tr th:only-of-type {\n",
       "        vertical-align: middle;\n",
       "    }\n",
       "\n",
       "    .dataframe tbody tr th {\n",
       "        vertical-align: top;\n",
       "    }\n",
       "\n",
       "    .dataframe thead th {\n",
       "        text-align: right;\n",
       "    }\n",
       "</style>\n",
       "<table border=\"1\" class=\"dataframe\">\n",
       "  <thead>\n",
       "    <tr style=\"text-align: right;\">\n",
       "      <th></th>\n",
       "      <th>employee_id</th>\n",
       "      <th>name</th>\n",
       "      <th>job_title</th>\n",
       "      <th>department</th>\n",
       "      <th>salary</th>\n",
       "    </tr>\n",
       "  </thead>\n",
       "  <tbody>\n",
       "    <tr>\n",
       "      <th>0</th>\n",
       "      <td>1</td>\n",
       "      <td>Alice</td>\n",
       "      <td>Software Engineer</td>\n",
       "      <td>Engineering</td>\n",
       "      <td>100000</td>\n",
       "    </tr>\n",
       "    <tr>\n",
       "      <th>1</th>\n",
       "      <td>2</td>\n",
       "      <td>Bob</td>\n",
       "      <td>Data Scientist</td>\n",
       "      <td>Data Science</td>\n",
       "      <td>120000</td>\n",
       "    </tr>\n",
       "    <tr>\n",
       "      <th>2</th>\n",
       "      <td>3</td>\n",
       "      <td>Carol</td>\n",
       "      <td>Marketing Manager</td>\n",
       "      <td>Marketing</td>\n",
       "      <td>140000</td>\n",
       "    </tr>\n",
       "    <tr>\n",
       "      <th>3</th>\n",
       "      <td>4</td>\n",
       "      <td>Dave</td>\n",
       "      <td>Sales Manager</td>\n",
       "      <td>Sales</td>\n",
       "      <td>160000</td>\n",
       "    </tr>\n",
       "    <tr>\n",
       "      <th>4</th>\n",
       "      <td>5</td>\n",
       "      <td>Eve</td>\n",
       "      <td>Product Manager</td>\n",
       "      <td>Product</td>\n",
       "      <td>180000</td>\n",
       "    </tr>\n",
       "  </tbody>\n",
       "</table>\n",
       "</div>"
      ],
      "text/plain": [
       "   employee_id   name          job_title    department  salary\n",
       "0            1  Alice  Software Engineer   Engineering  100000\n",
       "1            2    Bob     Data Scientist  Data Science  120000\n",
       "2            3  Carol  Marketing Manager     Marketing  140000\n",
       "3            4   Dave      Sales Manager         Sales  160000\n",
       "4            5    Eve    Product Manager       Product  180000"
      ]
     },
     "execution_count": 9,
     "metadata": {},
     "output_type": "execute_result"
    }
   ],
   "source": [
    "employee_df"
   ]
  },
  {
   "cell_type": "code",
   "execution_count": 10,
   "id": "b3f0f810-5e05-4abd-ace1-bf4a808177d5",
   "metadata": {},
   "outputs": [],
   "source": [
    "strings = list(employee_df.dtypes[employee_df.dtypes == 'object'].index)"
   ]
  },
  {
   "cell_type": "code",
   "execution_count": 11,
   "id": "f5ed4df6-ab9f-4c2c-b61b-eec426cb4743",
   "metadata": {},
   "outputs": [],
   "source": [
    "for col in strings:\n",
    "    employee_df[col] = employee_df[col].str.lower().str.replace(' ', '_')"
   ]
  },
  {
   "cell_type": "code",
   "execution_count": 12,
   "id": "e32d0313-1db3-4a61-88b2-9551c2e8d01e",
   "metadata": {},
   "outputs": [
    {
     "data": {
      "text/html": [
       "<div>\n",
       "<style scoped>\n",
       "    .dataframe tbody tr th:only-of-type {\n",
       "        vertical-align: middle;\n",
       "    }\n",
       "\n",
       "    .dataframe tbody tr th {\n",
       "        vertical-align: top;\n",
       "    }\n",
       "\n",
       "    .dataframe thead th {\n",
       "        text-align: right;\n",
       "    }\n",
       "</style>\n",
       "<table border=\"1\" class=\"dataframe\">\n",
       "  <thead>\n",
       "    <tr style=\"text-align: right;\">\n",
       "      <th></th>\n",
       "      <th>employee_id</th>\n",
       "      <th>name</th>\n",
       "      <th>job_title</th>\n",
       "      <th>department</th>\n",
       "      <th>salary</th>\n",
       "    </tr>\n",
       "  </thead>\n",
       "  <tbody>\n",
       "    <tr>\n",
       "      <th>0</th>\n",
       "      <td>1</td>\n",
       "      <td>alice</td>\n",
       "      <td>software_engineer</td>\n",
       "      <td>engineering</td>\n",
       "      <td>100000</td>\n",
       "    </tr>\n",
       "    <tr>\n",
       "      <th>1</th>\n",
       "      <td>2</td>\n",
       "      <td>bob</td>\n",
       "      <td>data_scientist</td>\n",
       "      <td>data_science</td>\n",
       "      <td>120000</td>\n",
       "    </tr>\n",
       "    <tr>\n",
       "      <th>2</th>\n",
       "      <td>3</td>\n",
       "      <td>carol</td>\n",
       "      <td>marketing_manager</td>\n",
       "      <td>marketing</td>\n",
       "      <td>140000</td>\n",
       "    </tr>\n",
       "    <tr>\n",
       "      <th>3</th>\n",
       "      <td>4</td>\n",
       "      <td>dave</td>\n",
       "      <td>sales_manager</td>\n",
       "      <td>sales</td>\n",
       "      <td>160000</td>\n",
       "    </tr>\n",
       "    <tr>\n",
       "      <th>4</th>\n",
       "      <td>5</td>\n",
       "      <td>eve</td>\n",
       "      <td>product_manager</td>\n",
       "      <td>product</td>\n",
       "      <td>180000</td>\n",
       "    </tr>\n",
       "  </tbody>\n",
       "</table>\n",
       "</div>"
      ],
      "text/plain": [
       "   employee_id   name          job_title    department  salary\n",
       "0            1  alice  software_engineer   engineering  100000\n",
       "1            2    bob     data_scientist  data_science  120000\n",
       "2            3  carol  marketing_manager     marketing  140000\n",
       "3            4   dave      sales_manager         sales  160000\n",
       "4            5    eve    product_manager       product  180000"
      ]
     },
     "execution_count": 12,
     "metadata": {},
     "output_type": "execute_result"
    }
   ],
   "source": [
    "employee_df"
   ]
  },
  {
   "cell_type": "code",
   "execution_count": 13,
   "id": "84a927f2-48f9-46d0-bded-da5f54d0c4a2",
   "metadata": {},
   "outputs": [
    {
     "data": {
      "text/plain": [
       "0    100000\n",
       "1    120000\n",
       "2    140000\n",
       "3    160000\n",
       "4    180000\n",
       "Name: salary, dtype: int64"
      ]
     },
     "execution_count": 13,
     "metadata": {},
     "output_type": "execute_result"
    }
   ],
   "source": [
    "employee_df.salary"
   ]
  },
  {
   "cell_type": "code",
   "execution_count": 14,
   "id": "e66119a6-f33c-4096-8e65-6347467ac6b4",
   "metadata": {},
   "outputs": [],
   "source": [
    "employee_df['new_salary'] = employee_df['salary'] * 2 "
   ]
  },
  {
   "cell_type": "code",
   "execution_count": 15,
   "id": "1ed43f10-3d5f-433c-b410-07e5d3710f73",
   "metadata": {},
   "outputs": [
    {
     "data": {
      "text/html": [
       "<div>\n",
       "<style scoped>\n",
       "    .dataframe tbody tr th:only-of-type {\n",
       "        vertical-align: middle;\n",
       "    }\n",
       "\n",
       "    .dataframe tbody tr th {\n",
       "        vertical-align: top;\n",
       "    }\n",
       "\n",
       "    .dataframe thead th {\n",
       "        text-align: right;\n",
       "    }\n",
       "</style>\n",
       "<table border=\"1\" class=\"dataframe\">\n",
       "  <thead>\n",
       "    <tr style=\"text-align: right;\">\n",
       "      <th></th>\n",
       "      <th>employee_id</th>\n",
       "      <th>name</th>\n",
       "      <th>job_title</th>\n",
       "      <th>department</th>\n",
       "      <th>salary</th>\n",
       "      <th>new_salary</th>\n",
       "    </tr>\n",
       "  </thead>\n",
       "  <tbody>\n",
       "    <tr>\n",
       "      <th>0</th>\n",
       "      <td>1</td>\n",
       "      <td>alice</td>\n",
       "      <td>software_engineer</td>\n",
       "      <td>engineering</td>\n",
       "      <td>100000</td>\n",
       "      <td>200000</td>\n",
       "    </tr>\n",
       "    <tr>\n",
       "      <th>1</th>\n",
       "      <td>2</td>\n",
       "      <td>bob</td>\n",
       "      <td>data_scientist</td>\n",
       "      <td>data_science</td>\n",
       "      <td>120000</td>\n",
       "      <td>240000</td>\n",
       "    </tr>\n",
       "    <tr>\n",
       "      <th>2</th>\n",
       "      <td>3</td>\n",
       "      <td>carol</td>\n",
       "      <td>marketing_manager</td>\n",
       "      <td>marketing</td>\n",
       "      <td>140000</td>\n",
       "      <td>280000</td>\n",
       "    </tr>\n",
       "    <tr>\n",
       "      <th>3</th>\n",
       "      <td>4</td>\n",
       "      <td>dave</td>\n",
       "      <td>sales_manager</td>\n",
       "      <td>sales</td>\n",
       "      <td>160000</td>\n",
       "      <td>320000</td>\n",
       "    </tr>\n",
       "    <tr>\n",
       "      <th>4</th>\n",
       "      <td>5</td>\n",
       "      <td>eve</td>\n",
       "      <td>product_manager</td>\n",
       "      <td>product</td>\n",
       "      <td>180000</td>\n",
       "      <td>360000</td>\n",
       "    </tr>\n",
       "  </tbody>\n",
       "</table>\n",
       "</div>"
      ],
      "text/plain": [
       "   employee_id   name          job_title    department  salary  new_salary\n",
       "0            1  alice  software_engineer   engineering  100000      200000\n",
       "1            2    bob     data_scientist  data_science  120000      240000\n",
       "2            3  carol  marketing_manager     marketing  140000      280000\n",
       "3            4   dave      sales_manager         sales  160000      320000\n",
       "4            5    eve    product_manager       product  180000      360000"
      ]
     },
     "execution_count": 15,
     "metadata": {},
     "output_type": "execute_result"
    }
   ],
   "source": [
    "employee_df"
   ]
  },
  {
   "cell_type": "code",
   "execution_count": 16,
   "id": "9cef0984-d734-452a-9154-a16b00467e67",
   "metadata": {},
   "outputs": [
    {
     "data": {
      "text/html": [
       "<div>\n",
       "<style scoped>\n",
       "    .dataframe tbody tr th:only-of-type {\n",
       "        vertical-align: middle;\n",
       "    }\n",
       "\n",
       "    .dataframe tbody tr th {\n",
       "        vertical-align: top;\n",
       "    }\n",
       "\n",
       "    .dataframe thead th {\n",
       "        text-align: right;\n",
       "    }\n",
       "</style>\n",
       "<table border=\"1\" class=\"dataframe\">\n",
       "  <thead>\n",
       "    <tr style=\"text-align: right;\">\n",
       "      <th></th>\n",
       "      <th>employee_id</th>\n",
       "      <th>name</th>\n",
       "      <th>job_title</th>\n",
       "      <th>department</th>\n",
       "      <th>salary</th>\n",
       "      <th>new_salary</th>\n",
       "    </tr>\n",
       "  </thead>\n",
       "  <tbody>\n",
       "    <tr>\n",
       "      <th>3</th>\n",
       "      <td>4</td>\n",
       "      <td>dave</td>\n",
       "      <td>sales_manager</td>\n",
       "      <td>sales</td>\n",
       "      <td>160000</td>\n",
       "      <td>320000</td>\n",
       "    </tr>\n",
       "    <tr>\n",
       "      <th>4</th>\n",
       "      <td>5</td>\n",
       "      <td>eve</td>\n",
       "      <td>product_manager</td>\n",
       "      <td>product</td>\n",
       "      <td>180000</td>\n",
       "      <td>360000</td>\n",
       "    </tr>\n",
       "  </tbody>\n",
       "</table>\n",
       "</div>"
      ],
      "text/plain": [
       "   employee_id  name        job_title department  salary  new_salary\n",
       "3            4  dave    sales_manager      sales  160000      320000\n",
       "4            5   eve  product_manager    product  180000      360000"
      ]
     },
     "execution_count": 16,
     "metadata": {},
     "output_type": "execute_result"
    }
   ],
   "source": [
    "employee_df.loc[employee_df['salary'] > 150000] "
   ]
  },
  {
   "cell_type": "code",
   "execution_count": 17,
   "id": "7eaf3f59-d0aa-43fd-addd-40011b00a28c",
   "metadata": {},
   "outputs": [],
   "source": [
    "emp_mean_salary = employee_df['salary'].mean()"
   ]
  },
  {
   "cell_type": "code",
   "execution_count": 18,
   "id": "b01024b1-cc5a-4c22-a5a0-db17e1efa399",
   "metadata": {},
   "outputs": [],
   "source": [
    "employee_df.loc[employee_df['salary'] > emp_mean_salary, 'gt_mean_salary'] = 1"
   ]
  },
  {
   "cell_type": "code",
   "execution_count": 19,
   "id": "93963375-2a28-4d71-8944-d090432ba5e0",
   "metadata": {},
   "outputs": [
    {
     "data": {
      "text/html": [
       "<div>\n",
       "<style scoped>\n",
       "    .dataframe tbody tr th:only-of-type {\n",
       "        vertical-align: middle;\n",
       "    }\n",
       "\n",
       "    .dataframe tbody tr th {\n",
       "        vertical-align: top;\n",
       "    }\n",
       "\n",
       "    .dataframe thead th {\n",
       "        text-align: right;\n",
       "    }\n",
       "</style>\n",
       "<table border=\"1\" class=\"dataframe\">\n",
       "  <thead>\n",
       "    <tr style=\"text-align: right;\">\n",
       "      <th></th>\n",
       "      <th>employee_id</th>\n",
       "      <th>name</th>\n",
       "      <th>job_title</th>\n",
       "      <th>department</th>\n",
       "      <th>salary</th>\n",
       "      <th>new_salary</th>\n",
       "      <th>gt_mean_salary</th>\n",
       "    </tr>\n",
       "  </thead>\n",
       "  <tbody>\n",
       "    <tr>\n",
       "      <th>0</th>\n",
       "      <td>1</td>\n",
       "      <td>alice</td>\n",
       "      <td>software_engineer</td>\n",
       "      <td>engineering</td>\n",
       "      <td>100000</td>\n",
       "      <td>200000</td>\n",
       "      <td>NaN</td>\n",
       "    </tr>\n",
       "    <tr>\n",
       "      <th>1</th>\n",
       "      <td>2</td>\n",
       "      <td>bob</td>\n",
       "      <td>data_scientist</td>\n",
       "      <td>data_science</td>\n",
       "      <td>120000</td>\n",
       "      <td>240000</td>\n",
       "      <td>NaN</td>\n",
       "    </tr>\n",
       "    <tr>\n",
       "      <th>2</th>\n",
       "      <td>3</td>\n",
       "      <td>carol</td>\n",
       "      <td>marketing_manager</td>\n",
       "      <td>marketing</td>\n",
       "      <td>140000</td>\n",
       "      <td>280000</td>\n",
       "      <td>NaN</td>\n",
       "    </tr>\n",
       "    <tr>\n",
       "      <th>3</th>\n",
       "      <td>4</td>\n",
       "      <td>dave</td>\n",
       "      <td>sales_manager</td>\n",
       "      <td>sales</td>\n",
       "      <td>160000</td>\n",
       "      <td>320000</td>\n",
       "      <td>1.0</td>\n",
       "    </tr>\n",
       "    <tr>\n",
       "      <th>4</th>\n",
       "      <td>5</td>\n",
       "      <td>eve</td>\n",
       "      <td>product_manager</td>\n",
       "      <td>product</td>\n",
       "      <td>180000</td>\n",
       "      <td>360000</td>\n",
       "      <td>1.0</td>\n",
       "    </tr>\n",
       "  </tbody>\n",
       "</table>\n",
       "</div>"
      ],
      "text/plain": [
       "   employee_id   name          job_title    department  salary  new_salary  \\\n",
       "0            1  alice  software_engineer   engineering  100000      200000   \n",
       "1            2    bob     data_scientist  data_science  120000      240000   \n",
       "2            3  carol  marketing_manager     marketing  140000      280000   \n",
       "3            4   dave      sales_manager         sales  160000      320000   \n",
       "4            5    eve    product_manager       product  180000      360000   \n",
       "\n",
       "   gt_mean_salary  \n",
       "0             NaN  \n",
       "1             NaN  \n",
       "2             NaN  \n",
       "3             1.0  \n",
       "4             1.0  "
      ]
     },
     "execution_count": 19,
     "metadata": {},
     "output_type": "execute_result"
    }
   ],
   "source": [
    "employee_df"
   ]
  },
  {
   "cell_type": "code",
   "execution_count": 20,
   "id": "5962e282-f5ce-439e-8d82-c7ad10f4f86d",
   "metadata": {},
   "outputs": [],
   "source": [
    "import numpy as np"
   ]
  },
  {
   "cell_type": "code",
   "execution_count": 21,
   "id": "8c1d5031-64ed-46c4-83f5-c83806e2943e",
   "metadata": {},
   "outputs": [],
   "source": [
    "employee_df['gt_mean_salary'] = np.where(employee_df['salary'] > emp_mean_salary, 1, 0)"
   ]
  },
  {
   "cell_type": "code",
   "execution_count": 22,
   "id": "4f76031d-1fbb-46ef-9c9c-f5833bc9ae72",
   "metadata": {},
   "outputs": [
    {
     "data": {
      "text/html": [
       "<div>\n",
       "<style scoped>\n",
       "    .dataframe tbody tr th:only-of-type {\n",
       "        vertical-align: middle;\n",
       "    }\n",
       "\n",
       "    .dataframe tbody tr th {\n",
       "        vertical-align: top;\n",
       "    }\n",
       "\n",
       "    .dataframe thead th {\n",
       "        text-align: right;\n",
       "    }\n",
       "</style>\n",
       "<table border=\"1\" class=\"dataframe\">\n",
       "  <thead>\n",
       "    <tr style=\"text-align: right;\">\n",
       "      <th></th>\n",
       "      <th>employee_id</th>\n",
       "      <th>name</th>\n",
       "      <th>job_title</th>\n",
       "      <th>department</th>\n",
       "      <th>salary</th>\n",
       "      <th>new_salary</th>\n",
       "      <th>gt_mean_salary</th>\n",
       "    </tr>\n",
       "  </thead>\n",
       "  <tbody>\n",
       "    <tr>\n",
       "      <th>0</th>\n",
       "      <td>1</td>\n",
       "      <td>alice</td>\n",
       "      <td>software_engineer</td>\n",
       "      <td>engineering</td>\n",
       "      <td>100000</td>\n",
       "      <td>200000</td>\n",
       "      <td>0</td>\n",
       "    </tr>\n",
       "    <tr>\n",
       "      <th>1</th>\n",
       "      <td>2</td>\n",
       "      <td>bob</td>\n",
       "      <td>data_scientist</td>\n",
       "      <td>data_science</td>\n",
       "      <td>120000</td>\n",
       "      <td>240000</td>\n",
       "      <td>0</td>\n",
       "    </tr>\n",
       "    <tr>\n",
       "      <th>2</th>\n",
       "      <td>3</td>\n",
       "      <td>carol</td>\n",
       "      <td>marketing_manager</td>\n",
       "      <td>marketing</td>\n",
       "      <td>140000</td>\n",
       "      <td>280000</td>\n",
       "      <td>0</td>\n",
       "    </tr>\n",
       "    <tr>\n",
       "      <th>3</th>\n",
       "      <td>4</td>\n",
       "      <td>dave</td>\n",
       "      <td>sales_manager</td>\n",
       "      <td>sales</td>\n",
       "      <td>160000</td>\n",
       "      <td>320000</td>\n",
       "      <td>1</td>\n",
       "    </tr>\n",
       "    <tr>\n",
       "      <th>4</th>\n",
       "      <td>5</td>\n",
       "      <td>eve</td>\n",
       "      <td>product_manager</td>\n",
       "      <td>product</td>\n",
       "      <td>180000</td>\n",
       "      <td>360000</td>\n",
       "      <td>1</td>\n",
       "    </tr>\n",
       "  </tbody>\n",
       "</table>\n",
       "</div>"
      ],
      "text/plain": [
       "   employee_id   name          job_title    department  salary  new_salary  \\\n",
       "0            1  alice  software_engineer   engineering  100000      200000   \n",
       "1            2    bob     data_scientist  data_science  120000      240000   \n",
       "2            3  carol  marketing_manager     marketing  140000      280000   \n",
       "3            4   dave      sales_manager         sales  160000      320000   \n",
       "4            5    eve    product_manager       product  180000      360000   \n",
       "\n",
       "   gt_mean_salary  \n",
       "0               0  \n",
       "1               0  \n",
       "2               0  \n",
       "3               1  \n",
       "4               1  "
      ]
     },
     "execution_count": 22,
     "metadata": {},
     "output_type": "execute_result"
    }
   ],
   "source": [
    "employee_df"
   ]
  },
  {
   "cell_type": "code",
   "execution_count": 23,
   "id": "ae1d3620-d50c-465e-81c3-91d003fa11ca",
   "metadata": {},
   "outputs": [
    {
     "data": {
      "text/html": [
       "<div>\n",
       "<style scoped>\n",
       "    .dataframe tbody tr th:only-of-type {\n",
       "        vertical-align: middle;\n",
       "    }\n",
       "\n",
       "    .dataframe tbody tr th {\n",
       "        vertical-align: top;\n",
       "    }\n",
       "\n",
       "    .dataframe thead th {\n",
       "        text-align: right;\n",
       "    }\n",
       "</style>\n",
       "<table border=\"1\" class=\"dataframe\">\n",
       "  <thead>\n",
       "    <tr style=\"text-align: right;\">\n",
       "      <th></th>\n",
       "      <th>employee_id</th>\n",
       "      <th>name</th>\n",
       "      <th>job_title</th>\n",
       "      <th>department</th>\n",
       "      <th>salary</th>\n",
       "      <th>new_salary</th>\n",
       "      <th>gt_mean_salary</th>\n",
       "    </tr>\n",
       "  </thead>\n",
       "  <tbody>\n",
       "    <tr>\n",
       "      <th>3</th>\n",
       "      <td>4</td>\n",
       "      <td>dave</td>\n",
       "      <td>sales_manager</td>\n",
       "      <td>sales</td>\n",
       "      <td>160000</td>\n",
       "      <td>320000</td>\n",
       "      <td>1</td>\n",
       "    </tr>\n",
       "  </tbody>\n",
       "</table>\n",
       "</div>"
      ],
      "text/plain": [
       "   employee_id  name      job_title department  salary  new_salary  \\\n",
       "3            4  dave  sales_manager      sales  160000      320000   \n",
       "\n",
       "   gt_mean_salary  \n",
       "3               1  "
      ]
     },
     "execution_count": 23,
     "metadata": {},
     "output_type": "execute_result"
    }
   ],
   "source": [
    "employee_df.loc[employee_df['department'] == 'sales']"
   ]
  },
  {
   "cell_type": "code",
   "execution_count": 26,
   "id": "00178b13-d4ea-4a4e-ad84-554ab8253e9a",
   "metadata": {},
   "outputs": [],
   "source": [
    "def job_filter(df, job_title):\n",
    "    return df.loc[df[\"job_title\"] == job_title]"
   ]
  },
  {
   "cell_type": "code",
   "execution_count": 27,
   "id": "04daf9b1-338a-4a27-a3f8-ba3169a51baa",
   "metadata": {},
   "outputs": [
    {
     "data": {
      "text/html": [
       "<div>\n",
       "<style scoped>\n",
       "    .dataframe tbody tr th:only-of-type {\n",
       "        vertical-align: middle;\n",
       "    }\n",
       "\n",
       "    .dataframe tbody tr th {\n",
       "        vertical-align: top;\n",
       "    }\n",
       "\n",
       "    .dataframe thead th {\n",
       "        text-align: right;\n",
       "    }\n",
       "</style>\n",
       "<table border=\"1\" class=\"dataframe\">\n",
       "  <thead>\n",
       "    <tr style=\"text-align: right;\">\n",
       "      <th></th>\n",
       "      <th>employee_id</th>\n",
       "      <th>name</th>\n",
       "      <th>job_title</th>\n",
       "      <th>department</th>\n",
       "      <th>salary</th>\n",
       "      <th>new_salary</th>\n",
       "      <th>gt_mean_salary</th>\n",
       "    </tr>\n",
       "  </thead>\n",
       "  <tbody>\n",
       "    <tr>\n",
       "      <th>1</th>\n",
       "      <td>2</td>\n",
       "      <td>bob</td>\n",
       "      <td>data_scientist</td>\n",
       "      <td>data_science</td>\n",
       "      <td>120000</td>\n",
       "      <td>240000</td>\n",
       "      <td>0</td>\n",
       "    </tr>\n",
       "  </tbody>\n",
       "</table>\n",
       "</div>"
      ],
      "text/plain": [
       "   employee_id name       job_title    department  salary  new_salary  \\\n",
       "1            2  bob  data_scientist  data_science  120000      240000   \n",
       "\n",
       "   gt_mean_salary  \n",
       "1               0  "
      ]
     },
     "execution_count": 27,
     "metadata": {},
     "output_type": "execute_result"
    }
   ],
   "source": [
    "job_filter(employee_df, \"data_scientist\")"
   ]
  },
  {
   "cell_type": "code",
   "execution_count": 30,
   "id": "07149961-61e3-47f3-97e8-893f2d495d7b",
   "metadata": {},
   "outputs": [],
   "source": [
    "import filters"
   ]
  },
  {
   "cell_type": "code",
   "execution_count": 31,
   "id": "130d4ebf-2ada-46ae-b559-66d89db973a3",
   "metadata": {},
   "outputs": [
    {
     "data": {
      "text/html": [
       "<div>\n",
       "<style scoped>\n",
       "    .dataframe tbody tr th:only-of-type {\n",
       "        vertical-align: middle;\n",
       "    }\n",
       "\n",
       "    .dataframe tbody tr th {\n",
       "        vertical-align: top;\n",
       "    }\n",
       "\n",
       "    .dataframe thead th {\n",
       "        text-align: right;\n",
       "    }\n",
       "</style>\n",
       "<table border=\"1\" class=\"dataframe\">\n",
       "  <thead>\n",
       "    <tr style=\"text-align: right;\">\n",
       "      <th></th>\n",
       "      <th>employee_id</th>\n",
       "      <th>name</th>\n",
       "      <th>job_title</th>\n",
       "      <th>department</th>\n",
       "      <th>salary</th>\n",
       "      <th>new_salary</th>\n",
       "      <th>gt_mean_salary</th>\n",
       "    </tr>\n",
       "  </thead>\n",
       "  <tbody>\n",
       "    <tr>\n",
       "      <th>1</th>\n",
       "      <td>2</td>\n",
       "      <td>bob</td>\n",
       "      <td>data_scientist</td>\n",
       "      <td>data_science</td>\n",
       "      <td>120000</td>\n",
       "      <td>240000</td>\n",
       "      <td>0</td>\n",
       "    </tr>\n",
       "  </tbody>\n",
       "</table>\n",
       "</div>"
      ],
      "text/plain": [
       "   employee_id name       job_title    department  salary  new_salary  \\\n",
       "1            2  bob  data_scientist  data_science  120000      240000   \n",
       "\n",
       "   gt_mean_salary  \n",
       "1               0  "
      ]
     },
     "execution_count": 31,
     "metadata": {},
     "output_type": "execute_result"
    }
   ],
   "source": [
    "filters.job_filter(employee_df, \"data_scientist\")"
   ]
  },
  {
   "cell_type": "code",
   "execution_count": null,
   "id": "b1bc6d2f-6675-4424-ba5b-65c462bf8680",
   "metadata": {},
   "outputs": [],
   "source": []
  }
 ],
 "metadata": {
  "kernelspec": {
   "display_name": "Python 3 (ipykernel)",
   "language": "python",
   "name": "python3"
  },
  "language_info": {
   "codemirror_mode": {
    "name": "ipython",
    "version": 3
   },
   "file_extension": ".py",
   "mimetype": "text/x-python",
   "name": "python",
   "nbconvert_exporter": "python",
   "pygments_lexer": "ipython3",
   "version": "3.9.15"
  }
 },
 "nbformat": 4,
 "nbformat_minor": 5
}
