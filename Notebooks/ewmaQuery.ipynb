{
 "cells": [
  {
   "cell_type": "code",
   "execution_count": 1,
   "id": "2427d731-6770-40fc-a341-bb1d06686d87",
   "metadata": {},
   "outputs": [],
   "source": [
    "from pyspark.sql import functions\n",
    "from pyspark.sql.functions import when, count, isnan, col\n",
    "from datetime import datetime as dt"
   ]
  },
  {
   "cell_type": "code",
   "execution_count": 2,
   "id": "6468f73f-a296-4529-9b01-26c4a42a0d1a",
   "metadata": {},
   "outputs": [],
   "source": [
    "from pyspark.sql import SparkSession"
   ]
  },
  {
   "cell_type": "code",
   "execution_count": 3,
   "id": "1d09af6a-5e9c-416c-8f18-74209d4bce87",
   "metadata": {},
   "outputs": [
    {
     "name": "stderr",
     "output_type": "stream",
     "text": [
      "23/11/01 17:07:08 WARN Utils: Your hostname, pop-os resolves to a loopback address: 127.0.1.1; using 192.168.61.172 instead (on interface wlo1)\n",
      "23/11/01 17:07:08 WARN Utils: Set SPARK_LOCAL_IP if you need to bind to another address\n",
      "23/11/01 17:07:09 WARN NativeCodeLoader: Unable to load native-hadoop library for your platform... using builtin-java classes where applicable\n",
      "Setting default log level to \"WARN\".\n",
      "To adjust logging level use sc.setLogLevel(newLevel). For SparkR, use setLogLevel(newLevel).\n"
     ]
    }
   ],
   "source": [
    "spark = SparkSession.builder.master(\"spark://pop-os.localdomain:7077\")\\\n",
    "    .appName(\"EWMA.com\")\\\n",
    "    .config(\"spark.jars\", \"mysql-connector-j-8.0.33.jar\")\\\n",
    "    .config(\"spark.driver.memory\", \"8g\")\\\n",
    "    .config(\"spark.executor.memory\", \"14g\").getOrCreate()"
   ]
  },
  {
   "cell_type": "code",
   "execution_count": 4,
   "id": "800b5484-1529-4241-b4ec-c008de0daa92",
   "metadata": {},
   "outputs": [
    {
     "data": {
      "text/html": [
       "\n",
       "            <div>\n",
       "                <p><b>SparkSession - in-memory</b></p>\n",
       "                \n",
       "        <div>\n",
       "            <p><b>SparkContext</b></p>\n",
       "\n",
       "            <p><a href=\"http://192.168.61.172:4040\">Spark UI</a></p>\n",
       "\n",
       "            <dl>\n",
       "              <dt>Version</dt>\n",
       "                <dd><code>v3.5.0</code></dd>\n",
       "              <dt>Master</dt>\n",
       "                <dd><code>spark://pop-os.localdomain:7077</code></dd>\n",
       "              <dt>AppName</dt>\n",
       "                <dd><code>EWMA.com</code></dd>\n",
       "            </dl>\n",
       "        </div>\n",
       "        \n",
       "            </div>\n",
       "        "
      ],
      "text/plain": [
       "<pyspark.sql.session.SparkSession at 0x7ff3b0482400>"
      ]
     },
     "execution_count": 4,
     "metadata": {},
     "output_type": "execute_result"
    }
   ],
   "source": [
    "spark"
   ]
  },
  {
   "cell_type": "code",
   "execution_count": 5,
   "id": "d5ddee94-8e10-4330-9fdf-40a772ecf762",
   "metadata": {},
   "outputs": [
    {
     "data": {
      "text/plain": [
       "['/opt/spark/conf/spark-config.conf']"
      ]
     },
     "execution_count": 5,
     "metadata": {},
     "output_type": "execute_result"
    }
   ],
   "source": [
    "import configparser\n",
    "config_file_path = \"/opt/spark/conf/spark-config.conf\"\n",
    "# Read secrete from config\n",
    "config = configparser.ConfigParser()\n",
    "config.read(config_file_path)"
   ]
  },
  {
   "cell_type": "code",
   "execution_count": 6,
   "id": "888ef4c1-034f-4279-9584-9f44d87b2116",
   "metadata": {},
   "outputs": [],
   "source": [
    "def read_from_mysql(spark, table_name):\n",
    "    dbDriver = config.get(\"db\", \"driver\")\n",
    "    dbUrl = config.get(\"db\", \"url\")\n",
    "    dbUsername = config.get(\"db\", \"username\")\n",
    "    dbPassword = config.get(\"db\", \"password\")\n",
    "    return (\n",
    "        spark.read.format(\"jdbc\")\n",
    "        .option(\"driver\", dbDriver)\n",
    "        .option(\"url\", dbUrl)\n",
    "        .option(\"dbtable\", table_name)\n",
    "        .option(\"user\", dbUsername)\n",
    "        .option(\"password\", dbPassword)\n",
    "        .load()\n",
    "    )"
   ]
  },
  {
   "cell_type": "code",
   "execution_count": 7,
   "id": "4dd3fd53-8a7f-48ed-9455-139eebbc91ae",
   "metadata": {},
   "outputs": [],
   "source": [
    "df = read_from_mysql(spark, \"Sales\")"
   ]
  },
  {
   "cell_type": "code",
   "execution_count": 8,
   "id": "114f9016-fa85-46a1-a9bc-eee6dab1f609",
   "metadata": {},
   "outputs": [
    {
     "name": "stderr",
     "output_type": "stream",
     "text": [
      "                                                                                \r"
     ]
    },
    {
     "name": "stdout",
     "output_type": "stream",
     "text": [
      "+-------+----------+-------+\n",
      "|sale_id| sale_date|revenue|\n",
      "+-------+----------+-------+\n",
      "|      1|2022-01-31| 651.15|\n",
      "|      2|2022-02-28| 761.09|\n",
      "|      3|2022-03-31| 654.18|\n",
      "|      4|2022-04-30| 987.64|\n",
      "|      5|2022-05-31| 975.64|\n",
      "|      6|2022-06-30| 915.30|\n",
      "|      7|2022-07-31| 649.55|\n",
      "|      8|2022-08-31| 501.87|\n",
      "|      9|2022-09-30| 560.70|\n",
      "|     10|2022-10-31| 720.50|\n",
      "|     11|2022-11-30| 807.34|\n",
      "|     12|2022-12-31| 980.20|\n",
      "+-------+----------+-------+\n",
      "\n"
     ]
    }
   ],
   "source": [
    "df.show()"
   ]
  },
  {
   "cell_type": "code",
   "execution_count": 9,
   "id": "1634817e-686b-4f61-bbc3-5d11cb11262e",
   "metadata": {},
   "outputs": [],
   "source": [
    "df.createOrReplaceTempView(\"ewma_table\")"
   ]
  },
  {
   "cell_type": "code",
   "execution_count": 10,
   "id": "6658d452-1c22-4479-a0ea-98634ee9f6a4",
   "metadata": {},
   "outputs": [],
   "source": [
    "ewma_query = \"\"\"SELECT\n",
    "  t1.sale_id,\n",
    "  t1.sale_date,\n",
    "  t1.revenue,\n",
    "  CASE\n",
    "    WHEN t2.prev_ema IS NULL THEN t1.revenue\n",
    "    ELSE 0.2 * t1.revenue + (1 - 0.2) * t2.prev_ema\n",
    "  END AS ewma\n",
    "FROM (\n",
    "  SELECT\n",
    "    t1.sale_id,\n",
    "    t1.sale_date,\n",
    "    t1.revenue,\n",
    "    t1.sale_id - 1 AS prev_id\n",
    "  FROM ewma_table t1\n",
    ") t1\n",
    "LEFT JOIN (\n",
    "  SELECT\n",
    "    sale_id AS prev_id,\n",
    "    0.2 * revenue AS prev_ema\n",
    "  FROM ewma_table\n",
    ") t2 ON t1.prev_id = t2.prev_id\n",
    "ORDER BY t1.sale_date;\"\"\"\n"
   ]
  },
  {
   "cell_type": "code",
   "execution_count": 11,
   "id": "9c4ea8e9-060b-43e7-8dad-4fba71d0f602",
   "metadata": {
    "scrolled": true
   },
   "outputs": [
    {
     "name": "stdout",
     "output_type": "stream",
     "text": [
      "+-------+----------+-------+--------+\n",
      "|sale_id| sale_date|revenue|    ewma|\n",
      "+-------+----------+-------+--------+\n",
      "|      1|2022-01-31| 651.15|651.1500|\n",
      "|      2|2022-02-28| 761.09|256.4020|\n",
      "|      3|2022-03-31| 654.18|252.6104|\n",
      "|      4|2022-04-30| 987.64|302.1968|\n",
      "|      5|2022-05-31| 975.64|353.1504|\n",
      "|      6|2022-06-30| 915.30|339.1624|\n",
      "|      7|2022-07-31| 649.55|276.3580|\n",
      "|      8|2022-08-31| 501.87|204.3020|\n",
      "|      9|2022-09-30| 560.70|192.4392|\n",
      "|     10|2022-10-31| 720.50|233.8120|\n",
      "|     11|2022-11-30| 807.34|276.7480|\n",
      "|     12|2022-12-31| 980.20|325.2144|\n",
      "+-------+----------+-------+--------+\n",
      "\n"
     ]
    }
   ],
   "source": [
    "spark.sql(ewma_query).show()"
   ]
  },
  {
   "cell_type": "code",
   "execution_count": 12,
   "id": "be0ededf-711a-4153-be0b-d8de1ab9284c",
   "metadata": {},
   "outputs": [],
   "source": [
    "# \n",
    "ewma_query_lead_lag = \"\"\"\n",
    "SELECT\n",
    "  t1.sale_id,\n",
    "  t1.sale_date,\n",
    "  t1.revenue,\n",
    "  CASE\n",
    "    WHEN t2.prev_ema IS NULL THEN t1.revenue\n",
    "    ELSE 0.2 * t1.revenue + (1 - 0.2) * t2.prev_ema\n",
    "  END AS ewma\n",
    "FROM (\n",
    "  SELECT\n",
    "    t1.sale_id,\n",
    "    t1.sale_date,\n",
    "    t1.revenue,\n",
    "    LAG(ewma) OVER (PARTITION BY sale_date ORDER BY sale_date) AS prev_ema\n",
    "  FROM (\n",
    "    SELECT\n",
    "      t1.sale_id,\n",
    "      t1.sale_date,\n",
    "      t1.revenue,\n",
    "      0.2 * t1.revenue AS ewma\n",
    "    FROM ewma_table t1\n",
    "  ) t1\n",
    ") t1\n",
    "LEFT JOIN (\n",
    "  SELECT\n",
    "    sale_id AS next_id,\n",
    "    LEAD(ewma) OVER (PARTITION BY sale_date ORDER BY sale_date) AS prev_ema\n",
    "  FROM (\n",
    "    SELECT\n",
    "      t2.sale_id,\n",
    "      t2.sale_date,\n",
    "      0.2 * t2.revenue AS ewma\n",
    "    FROM ewma_table t2\n",
    "  ) t2\n",
    ") t2 ON t1.sale_id = t2.next_id\n",
    "ORDER BY t1.sale_date;\n",
    "\"\"\""
   ]
  },
  {
   "cell_type": "code",
   "execution_count": 13,
   "id": "7603c6db-7ec5-4026-992a-724b70a517ba",
   "metadata": {},
   "outputs": [
    {
     "name": "stdout",
     "output_type": "stream",
     "text": [
      "+-------+----------+-------+--------+\n",
      "|sale_id| sale_date|revenue|    ewma|\n",
      "+-------+----------+-------+--------+\n",
      "|      1|2022-01-31| 651.15|651.1500|\n",
      "|      2|2022-02-28| 761.09|761.0900|\n",
      "|      3|2022-03-31| 654.18|654.1800|\n",
      "|      4|2022-04-30| 987.64|987.6400|\n",
      "|      5|2022-05-31| 975.64|975.6400|\n",
      "|      6|2022-06-30| 915.30|915.3000|\n",
      "|      7|2022-07-31| 649.55|649.5500|\n",
      "|      8|2022-08-31| 501.87|501.8700|\n",
      "|      9|2022-09-30| 560.70|560.7000|\n",
      "|     10|2022-10-31| 720.50|720.5000|\n",
      "|     11|2022-11-30| 807.34|807.3400|\n",
      "|     12|2022-12-31| 980.20|980.2000|\n",
      "+-------+----------+-------+--------+\n",
      "\n"
     ]
    }
   ],
   "source": [
    "spark.sql(ewma_query_lead_lag).show()"
   ]
  },
  {
   "cell_type": "code",
   "execution_count": 14,
   "id": "de5a5dac-f414-46e8-ba47-439cd91ae662",
   "metadata": {},
   "outputs": [],
   "source": [
    "spark.stop()"
   ]
  },
  {
   "cell_type": "code",
   "execution_count": null,
   "id": "e8b53bfa-a265-46aa-8a43-e2a53455e69d",
   "metadata": {},
   "outputs": [],
   "source": []
  }
 ],
 "metadata": {
  "kernelspec": {
   "display_name": "Python 3 (ipykernel)",
   "language": "python",
   "name": "python3"
  },
  "language_info": {
   "codemirror_mode": {
    "name": "ipython",
    "version": 3
   },
   "file_extension": ".py",
   "mimetype": "text/x-python",
   "name": "python",
   "nbconvert_exporter": "python",
   "pygments_lexer": "ipython3",
   "version": "3.9.15"
  }
 },
 "nbformat": 4,
 "nbformat_minor": 5
}
