{
 "cells": [
  {
   "cell_type": "code",
   "execution_count": 1,
   "id": "9a97feb8-59b4-40d7-aa1f-7ff7c0b8cce6",
   "metadata": {},
   "outputs": [],
   "source": [
    "import os\n",
    "import uuid\n",
    "from delta import *\n",
    "from delta.tables import DeltaTable\n",
    "from pyspark.sql import SparkSession\n",
    "from pyspark.sql.functions import col, max, current_timestamp, lit, when, expr, udf, coalesce, current_date"
   ]
  },
  {
   "cell_type": "code",
   "execution_count": 2,
   "id": "4ac4f1cc-54c1-449f-87af-d1c03570bf74",
   "metadata": {},
   "outputs": [],
   "source": [
    "# config \n",
    "path_suffix  = 20\n",
    "delta_path = f\"{os.getcwd()}/data/delta/test{path_suffix}\""
   ]
  },
  {
   "cell_type": "code",
   "execution_count": 3,
   "id": "7899bf6b-fdbb-46e8-99ad-9cf18f55eca2",
   "metadata": {},
   "outputs": [
    {
     "name": "stderr",
     "output_type": "stream",
     "text": [
      "24/02/12 20:45:37 WARN Utils: Your hostname, saithihas-MacBook-Air.local resolves to a loopback address: 127.0.0.1; using 192.168.100.25 instead (on interface en0)\n",
      "24/02/12 20:45:37 WARN Utils: Set SPARK_LOCAL_IP if you need to bind to another address\n",
      "Ivy Default Cache set to: /Users/saithihazaw/.ivy2/cache\n",
      "The jars for the packages stored in: /Users/saithihazaw/.ivy2/jars\n",
      "io.delta#delta-spark_2.12 added as a dependency\n",
      ":: resolving dependencies :: org.apache.spark#spark-submit-parent-34449b82-f421-4861-93b2-7d8650af3528;1.0\n",
      "\tconfs: [default]\n",
      "\tfound io.delta#delta-spark_2.12;3.0.0 in central\n",
      "\tfound io.delta#delta-storage;3.0.0 in central\n",
      "\tfound org.antlr#antlr4-runtime;4.9.3 in central\n"
     ]
    },
    {
     "name": "stdout",
     "output_type": "stream",
     "text": [
      ":: loading settings :: url = jar:file:/opt/homebrew/Caskroom/miniforge/base/envs/delta_env/lib/python3.8/site-packages/pyspark/jars/ivy-2.5.1.jar!/org/apache/ivy/core/settings/ivysettings.xml\n"
     ]
    },
    {
     "name": "stderr",
     "output_type": "stream",
     "text": [
      ":: resolution report :: resolve 92ms :: artifacts dl 4ms\n",
      "\t:: modules in use:\n",
      "\tio.delta#delta-spark_2.12;3.0.0 from central in [default]\n",
      "\tio.delta#delta-storage;3.0.0 from central in [default]\n",
      "\torg.antlr#antlr4-runtime;4.9.3 from central in [default]\n",
      "\t---------------------------------------------------------------------\n",
      "\t|                  |            modules            ||   artifacts   |\n",
      "\t|       conf       | number| search|dwnlded|evicted|| number|dwnlded|\n",
      "\t---------------------------------------------------------------------\n",
      "\t|      default     |   3   |   0   |   0   |   0   ||   3   |   0   |\n",
      "\t---------------------------------------------------------------------\n",
      ":: retrieving :: org.apache.spark#spark-submit-parent-34449b82-f421-4861-93b2-7d8650af3528\n",
      "\tconfs: [default]\n",
      "\t0 artifacts copied, 3 already retrieved (0kB/3ms)\n",
      "24/02/12 20:45:37 WARN NativeCodeLoader: Unable to load native-hadoop library for your platform... using builtin-java classes where applicable\n",
      "Setting default log level to \"WARN\".\n",
      "To adjust logging level use sc.setLogLevel(newLevel). For SparkR, use setLogLevel(newLevel).\n"
     ]
    }
   ],
   "source": [
    "\n",
    "builder = SparkSession.builder.appName(\"SilverLayerCheckTest2\") \\\n",
    "    .config(\"spark.sql.extensions\", \"io.delta.sql.DeltaSparkSessionExtension\") \\\n",
    "    .config(\"spark.sql.catalog.spark_catalog\", \"org.apache.spark.sql.delta.catalog.DeltaCatalog\")\n",
    "\n",
    "spark = configure_spark_with_delta_pip(builder).getOrCreate()"
   ]
  },
  {
   "cell_type": "code",
   "execution_count": 4,
   "id": "f53a77bc-7e0f-463a-841d-2019c2c2f7d2",
   "metadata": {},
   "outputs": [],
   "source": [
    "from pyspark.sql.types import StructType, StructField, IntegerType, StringType, DateType"
   ]
  },
  {
   "cell_type": "code",
   "execution_count": 5,
   "id": "6d1bf099-84aa-469c-85fc-e091fc950c9e",
   "metadata": {},
   "outputs": [],
   "source": [
    "# Sample data (replace with your actual data)\n",
    "bronze_user_data = [\n",
    "    (\"user1\", \"2024-02-05\",\"2024-02-05\", \"inactive\", \"2024-02-05\"),\n",
    "    (\"user3\", \"2024-02-04\",\"2024-02-04\", \"new\", None),\n",
    "    (\"user4\", \"2024-02-01\",\"2024-02-05\", \"inactive\", \"2024-02-05\"),\n",
    "    (\"user5\", \"2023-02-05\",\"2024-02-05\", \"active\", None),\n",
    "]\n",
    "silver_user_data = [\n",
    "    (\"user1\", \"2023-02-05\",\"2024-02-02\", \"active\", None),\n",
    "    (\"user2\", \"2023-02-02\",\"2024-02-02\", \"pending\", None),\n",
    "    (\"user3\", \"2022-02-04\",\"2023-02-04\", \"inactive\", \"2024-02-04\"),\n",
    "]"
   ]
  },
  {
   "cell_type": "code",
   "execution_count": 6,
   "id": "ac570744-42c8-4876-89e0-ad0d79bee406",
   "metadata": {},
   "outputs": [],
   "source": [
    "# Create DataFrames [seed data]\n",
    "bronze_user_schema = StructType([\n",
    "    StructField(\"user_id\", StringType(), True),\n",
    "    StructField(\"created_at\", StringType(), True),\n",
    "    StructField(\"updated_at\", StringType(), True),\n",
    "    StructField(\"user_status\", StringType(), True),\n",
    "    StructField(\"deleted_at\", StringType(), True),\n",
    "])\n",
    "bronze_user = spark.createDataFrame(bronze_user_data, bronze_user_schema)"
   ]
  },
  {
   "cell_type": "code",
   "execution_count": 7,
   "id": "e09c63cb-5ce4-4e0b-bf57-f1e94ba43eb9",
   "metadata": {},
   "outputs": [],
   "source": [
    "# [prestored bronze layer data] \n",
    "silver_user_schema = StructType([\n",
    "    StructField(\"user_id\", StringType(), True),\n",
    "    StructField(\"created_at\", StringType(), True),\n",
    "    StructField(\"updated_at\", StringType(), True),\n",
    "    StructField(\"user_status\", StringType(), True),\n",
    "    StructField(\"deleted_at\", StringType(), True),\n",
    "])\n",
    "silver_user = spark.createDataFrame(silver_user_data, silver_user_schema)"
   ]
  },
  {
   "cell_type": "code",
   "execution_count": 8,
   "id": "2d25036b-4129-487e-9349-e7d61cb41b4d",
   "metadata": {},
   "outputs": [],
   "source": [
    "def perpare_scd_type2(df): \n",
    "    df = df.withColumn(\"id\", expr(\"uuid()\"))\n",
    "    df = df.withColumn(\"current_flag\", when(col(\"deleted_at\").isNull(), lit(\"Y\")).otherwise(lit(\"N\")))\n",
    "    df = df.withColumn(\"effective_date\", current_timestamp())\n",
    "    df = df.withColumn(\"expired_date\", lit(None).cast(\"timestamp\"))\n",
    "    df = df.withColumn(\"expired_date\", when(col(\"deleted_at\").isNull(), lit(None).cast(\"timestamp\")).otherwise(current_timestamp()))\n",
    "    return df"
   ]
  },
  {
   "cell_type": "code",
   "execution_count": 9,
   "id": "d0c50a10-864d-4102-8231-33f89ae43b72",
   "metadata": {},
   "outputs": [
    {
     "name": "stderr",
     "output_type": "stream",
     "text": [
      "                                                                                \r"
     ]
    }
   ],
   "source": [
    "if not os.path.exists(f\"{delta_path}/bronze_user\"): \n",
    "    bronze_users = perpare_scd_type2(bronze_user)\n",
    "else: \n",
    "    bronze_user_data2 = [\n",
    "    (\"user6\", \"2024-02-10\",\"2024-02-10\", \"new\", None),\n",
    "    (\"user7\", \"2024-02-10\",\"2024-02-10\", \"new\", None),\n",
    "    ]\n",
    "    bronze_users = spark.createDataFrame(bronze_user_data2, bronze_user_schema)\n",
    "    bronze_users = bronze_users.filter(col(\"created_at\") == '2024-02-11')\n",
    "    if bronze_users.count() == 0:\n",
    "        bronze_users = bronze_users.withColumn(\"id\", lit(None))\n",
    "        bronze_users = bronze_users.withColumn(\"current_flag\", lit(None))\n",
    "        bronze_users = bronze_users.withColumn(\"effective_date\", lit(None))\n",
    "        bronze_users = bronze_users.withColumn(\"expired_date\", lit(None))"
   ]
  },
  {
   "cell_type": "code",
   "execution_count": 10,
   "id": "72662533-e960-4bcd-9319-ed812b639e95",
   "metadata": {
    "scrolled": true
   },
   "outputs": [
    {
     "name": "stdout",
     "output_type": "stream",
     "text": [
      "+-------+----------+----------+-----------+----------+---+------------+--------------+------------+\n",
      "|user_id|created_at|updated_at|user_status|deleted_at|id |current_flag|effective_date|expired_date|\n",
      "+-------+----------+----------+-----------+----------+---+------------+--------------+------------+\n",
      "+-------+----------+----------+-----------+----------+---+------------+--------------+------------+\n",
      "\n"
     ]
    }
   ],
   "source": [
    "bronze_users.show(10,False,False)"
   ]
  },
  {
   "cell_type": "code",
   "execution_count": 11,
   "id": "099b2f6d-3e5a-4963-861e-92ca78afc7e5",
   "metadata": {},
   "outputs": [],
   "source": [
    "if DeltaTable.isDeltaTable(spark, f\"{delta_path}/silver_user\"):\n",
    "    silverDeltaTable = DeltaTable.forPath(spark, f\"{delta_path}/silver_user\")\n",
    "    silver_users = silverDeltaTable.toDF()\n",
    "else:\n",
    "    silver_users = perpare_scd_type2(silver_user)"
   ]
  },
  {
   "cell_type": "code",
   "execution_count": 12,
   "id": "ee492f91-02bc-48ec-9ac0-5928667070b0",
   "metadata": {},
   "outputs": [
    {
     "name": "stderr",
     "output_type": "stream",
     "text": [
      "24/02/12 20:45:42 WARN SparkStringUtils: Truncated the string representation of a plan since it was too large. This behavior can be adjusted by setting 'spark.sql.debug.maxToStringFields'.\n",
      "                                                                                \r"
     ]
    },
    {
     "name": "stdout",
     "output_type": "stream",
     "text": [
      "+-------+----------+----------+-----------+----------+------------------------------------+------------+--------------------------+--------------------------+\n",
      "|user_id|created_at|updated_at|user_status|deleted_at|id                                  |current_flag|effective_date            |expired_date              |\n",
      "+-------+----------+----------+-----------+----------+------------------------------------+------------+--------------------------+--------------------------+\n",
      "|user4  |2024-02-01|2024-02-05|inactive   |2024-02-05|ec52cf68-1881-476a-b68b-96d1d85c5a65|N           |2024-02-11 13:29:16.612573|2024-02-11 13:29:16.612573|\n",
      "|user5  |2023-02-05|2024-02-05|active     |NULL      |fedf0115-ff10-4f5e-bd9b-32976415cd56|Y           |2024-02-11 13:29:16.612573|NULL                      |\n",
      "|user3  |2022-02-04|2023-02-04|inactive   |2024-02-04|1b0232de-8177-44f2-8f51-708c359f4a90|Y           |2024-02-11 13:29:12.720104|NULL                      |\n",
      "|user1  |2023-02-05|2024-02-02|active     |NULL      |5a4f557b-0b1a-48cc-b474-b6013ba077cd|N           |2024-02-11 13:29:12.720104|2024-02-11 13:29:14.325476|\n",
      "|user1  |2024-02-05|2024-02-05|inactive   |2024-02-05|ea733d66-1977-4e4c-972e-04d83ee791a7|N           |2024-02-11 13:29:16.612573|2024-02-11 13:29:16.612573|\n",
      "|user3  |2024-02-04|2024-02-04|new        |NULL      |20961a31-af14-4c78-b3a9-b87357109be0|Y           |2024-02-11 13:29:16.612573|NULL                      |\n",
      "|user2  |2023-02-02|2024-02-02|pending    |NULL      |c813a01d-4384-4243-81c9-a4c99577eee8|Y           |2024-02-11 13:29:12.720104|NULL                      |\n",
      "+-------+----------+----------+-----------+----------+------------------------------------+------------+--------------------------+--------------------------+\n",
      "\n"
     ]
    }
   ],
   "source": [
    "silver_users.show(10,False,False)"
   ]
  },
  {
   "cell_type": "code",
   "execution_count": 13,
   "id": "a1287f76-4e4f-4a51-ad7c-2f33a8de1794",
   "metadata": {},
   "outputs": [],
   "source": [
    "bronze_users.createOrReplaceTempView(\"bronze_user\")\n",
    "silver_users.createOrReplaceTempView(\"silver_user\")"
   ]
  },
  {
   "cell_type": "code",
   "execution_count": 14,
   "id": "3db36720-2b49-4664-823a-a68895a4b125",
   "metadata": {},
   "outputs": [
    {
     "name": "stdout",
     "output_type": "stream",
     "text": [
      "+-------+----------+----------+-----------+----------+---+------------+--------------+------------+\n",
      "|user_id|created_at|updated_at|user_status|deleted_at| id|current_flag|effective_date|expired_date|\n",
      "+-------+----------+----------+-----------+----------+---+------------+--------------+------------+\n",
      "+-------+----------+----------+-----------+----------+---+------------+--------------+------------+\n",
      "\n"
     ]
    }
   ],
   "source": [
    "spark.sql(\"\"\"\n",
    "    select * from bronze_user\n",
    "    \"\"\").show()"
   ]
  },
  {
   "cell_type": "markdown",
   "id": "cafee550-3b98-4c86-a138-157df7769549",
   "metadata": {},
   "source": [
    "# New Income data \n",
    "- check with left anti join\n",
    "- add new uuid\n",
    "- change flag "
   ]
  },
  {
   "cell_type": "code",
   "execution_count": 15,
   "id": "3a954b73-31db-492d-a458-efd775756387",
   "metadata": {},
   "outputs": [],
   "source": [
    "new_records = bronze_users.join(silver_users, \"user_id\", \"left_anti\")"
   ]
  },
  {
   "cell_type": "code",
   "execution_count": 16,
   "id": "95b02b9f-945d-4625-85c5-df27d5f3c468",
   "metadata": {},
   "outputs": [
    {
     "name": "stdout",
     "output_type": "stream",
     "text": [
      "+-------+----------+----------+-----------+----------+---+------------+--------------+------------+\n",
      "|user_id|created_at|updated_at|user_status|deleted_at| id|current_flag|effective_date|expired_date|\n",
      "+-------+----------+----------+-----------+----------+---+------------+--------------+------------+\n",
      "+-------+----------+----------+-----------+----------+---+------------+--------------+------------+\n",
      "\n"
     ]
    }
   ],
   "source": [
    "new_records.show()"
   ]
  },
  {
   "cell_type": "code",
   "execution_count": 17,
   "id": "464d90ea-75fe-41d9-b731-672d0972f416",
   "metadata": {},
   "outputs": [],
   "source": [
    "if new_records.count() != 0: \n",
    "    new_records = new_records\\\n",
    "                    .withColumn(\"expired_date\", when(col(\"deleted_at\")\\\n",
    "                    .isNotNull(), current_timestamp())\\\n",
    "                    .otherwise(col(\"expired_date\")))\n",
    "else: \n",
    "    new_records = new_records"
   ]
  },
  {
   "cell_type": "code",
   "execution_count": 18,
   "id": "89f3ab21-c576-4d9a-a57b-336471a283c0",
   "metadata": {},
   "outputs": [
    {
     "name": "stdout",
     "output_type": "stream",
     "text": [
      "+-------+----------+----------+-----------+----------+---+------------+--------------+------------+\n",
      "|user_id|created_at|updated_at|user_status|deleted_at|id |current_flag|effective_date|expired_date|\n",
      "+-------+----------+----------+-----------+----------+---+------------+--------------+------------+\n",
      "+-------+----------+----------+-----------+----------+---+------------+--------------+------------+\n",
      "\n"
     ]
    }
   ],
   "source": [
    "new_records.show(10,False,False)"
   ]
  },
  {
   "cell_type": "code",
   "execution_count": 19,
   "id": "e67f96e7-d262-4abc-b082-42fb91ffac9c",
   "metadata": {
    "scrolled": true
   },
   "outputs": [
    {
     "name": "stdout",
     "output_type": "stream",
     "text": [
      "+-------+----------+----------+-----------+----------+---+------------+--------------+------------+\n",
      "|user_id|created_at|updated_at|user_status|deleted_at|id |current_flag|effective_date|expired_date|\n",
      "+-------+----------+----------+-----------+----------+---+------------+--------------+------------+\n",
      "+-------+----------+----------+-----------+----------+---+------------+--------------+------------+\n",
      "\n"
     ]
    }
   ],
   "source": [
    "bronze_users.show(10,False,False)"
   ]
  },
  {
   "cell_type": "code",
   "execution_count": 20,
   "id": "c81980c1-1268-4d38-90b4-691a081d1a73",
   "metadata": {},
   "outputs": [
    {
     "name": "stdout",
     "output_type": "stream",
     "text": [
      "+-------+----------+----------+-----------+----------+------------------------------------+------------+--------------------------+--------------------------+\n",
      "|user_id|created_at|updated_at|user_status|deleted_at|id                                  |current_flag|effective_date            |expired_date              |\n",
      "+-------+----------+----------+-----------+----------+------------------------------------+------------+--------------------------+--------------------------+\n",
      "|user4  |2024-02-01|2024-02-05|inactive   |2024-02-05|ec52cf68-1881-476a-b68b-96d1d85c5a65|N           |2024-02-11 13:29:16.612573|2024-02-11 13:29:16.612573|\n",
      "|user5  |2023-02-05|2024-02-05|active     |NULL      |fedf0115-ff10-4f5e-bd9b-32976415cd56|Y           |2024-02-11 13:29:16.612573|NULL                      |\n",
      "|user3  |2022-02-04|2023-02-04|inactive   |2024-02-04|1b0232de-8177-44f2-8f51-708c359f4a90|Y           |2024-02-11 13:29:12.720104|NULL                      |\n",
      "|user1  |2023-02-05|2024-02-02|active     |NULL      |5a4f557b-0b1a-48cc-b474-b6013ba077cd|N           |2024-02-11 13:29:12.720104|2024-02-11 13:29:14.325476|\n",
      "|user1  |2024-02-05|2024-02-05|inactive   |2024-02-05|ea733d66-1977-4e4c-972e-04d83ee791a7|N           |2024-02-11 13:29:16.612573|2024-02-11 13:29:16.612573|\n",
      "|user3  |2024-02-04|2024-02-04|new        |NULL      |20961a31-af14-4c78-b3a9-b87357109be0|Y           |2024-02-11 13:29:16.612573|NULL                      |\n",
      "|user2  |2023-02-02|2024-02-02|pending    |NULL      |c813a01d-4384-4243-81c9-a4c99577eee8|Y           |2024-02-11 13:29:12.720104|NULL                      |\n",
      "+-------+----------+----------+-----------+----------+------------------------------------+------------+--------------------------+--------------------------+\n",
      "\n"
     ]
    }
   ],
   "source": [
    "silver_users.show(10,False,False)"
   ]
  },
  {
   "cell_type": "markdown",
   "id": "6f7b186b-9773-4802-8ff1-6df61af4875e",
   "metadata": {},
   "source": [
    "# Check update data here \n",
    "- check with user_id\n",
    "- check with updated_at"
   ]
  },
  {
   "cell_type": "code",
   "execution_count": 21,
   "id": "ca795b1b-96cc-4e81-ac31-c88d217f07a4",
   "metadata": {},
   "outputs": [],
   "source": [
    "new_updated_data = spark.sql(\n",
    "    \"\"\"\n",
    "    select \n",
    "    bu.*\n",
    "    from \n",
    "    bronze_user bu\n",
    "    join \n",
    "    silver_user su on bu.user_id = su.user_id \n",
    "    where bu.updated_at <> su.updated_at\n",
    "    \"\"\"\n",
    ")"
   ]
  },
  {
   "cell_type": "code",
   "execution_count": null,
   "id": "0e1c25ff-8331-4ad1-a2fe-dd821106746f",
   "metadata": {},
   "outputs": [],
   "source": []
  },
  {
   "cell_type": "code",
   "execution_count": 22,
   "id": "9a6970bc-4fc3-4543-954a-236ed1a83d83",
   "metadata": {},
   "outputs": [
    {
     "name": "stdout",
     "output_type": "stream",
     "text": [
      "+-------+----------+----------+-----------+----------+---+------------+--------------+------------+\n",
      "|user_id|created_at|updated_at|user_status|deleted_at|id |current_flag|effective_date|expired_date|\n",
      "+-------+----------+----------+-----------+----------+---+------------+--------------+------------+\n",
      "+-------+----------+----------+-----------+----------+---+------------+--------------+------------+\n",
      "\n"
     ]
    }
   ],
   "source": [
    "new_updated_data.show(10,False,False)"
   ]
  },
  {
   "cell_type": "code",
   "execution_count": 23,
   "id": "8f2616c9-e620-47eb-b049-a6f02ece3b79",
   "metadata": {},
   "outputs": [
    {
     "name": "stdout",
     "output_type": "stream",
     "text": [
      "+-------+----------+----------+-----------+----------+------------------------------------+------------+--------------------------+--------------------------+\n",
      "|user_id|created_at|updated_at|user_status|deleted_at|id                                  |current_flag|effective_date            |expired_date              |\n",
      "+-------+----------+----------+-----------+----------+------------------------------------+------------+--------------------------+--------------------------+\n",
      "|user4  |2024-02-01|2024-02-05|inactive   |2024-02-05|ec52cf68-1881-476a-b68b-96d1d85c5a65|N           |2024-02-11 13:29:16.612573|2024-02-11 13:29:16.612573|\n",
      "|user5  |2023-02-05|2024-02-05|active     |NULL      |fedf0115-ff10-4f5e-bd9b-32976415cd56|Y           |2024-02-11 13:29:16.612573|NULL                      |\n",
      "|user3  |2022-02-04|2023-02-04|inactive   |2024-02-04|1b0232de-8177-44f2-8f51-708c359f4a90|Y           |2024-02-11 13:29:12.720104|NULL                      |\n",
      "|user1  |2023-02-05|2024-02-02|active     |NULL      |5a4f557b-0b1a-48cc-b474-b6013ba077cd|N           |2024-02-11 13:29:12.720104|2024-02-11 13:29:14.325476|\n",
      "|user1  |2024-02-05|2024-02-05|inactive   |2024-02-05|ea733d66-1977-4e4c-972e-04d83ee791a7|N           |2024-02-11 13:29:16.612573|2024-02-11 13:29:16.612573|\n",
      "|user3  |2024-02-04|2024-02-04|new        |NULL      |20961a31-af14-4c78-b3a9-b87357109be0|Y           |2024-02-11 13:29:16.612573|NULL                      |\n",
      "|user2  |2023-02-02|2024-02-02|pending    |NULL      |c813a01d-4384-4243-81c9-a4c99577eee8|Y           |2024-02-11 13:29:12.720104|NULL                      |\n",
      "+-------+----------+----------+-----------+----------+------------------------------------+------------+--------------------------+--------------------------+\n",
      "\n"
     ]
    }
   ],
   "source": [
    "silver_users.show(10,False,False)"
   ]
  },
  {
   "cell_type": "code",
   "execution_count": 24,
   "id": "8071661e-04d9-43db-831c-a05e5c8c0f4f",
   "metadata": {},
   "outputs": [
    {
     "name": "stdout",
     "output_type": "stream",
     "text": [
      "+-------+----------+----------+-----------+----------+---+------------+--------------+------------+\n",
      "|user_id|created_at|updated_at|user_status|deleted_at|id |current_flag|effective_date|expired_date|\n",
      "+-------+----------+----------+-----------+----------+---+------------+--------------+------------+\n",
      "+-------+----------+----------+-----------+----------+---+------------+--------------+------------+\n",
      "\n"
     ]
    }
   ],
   "source": [
    "bronze_users.show(10,False,False)"
   ]
  },
  {
   "cell_type": "code",
   "execution_count": 25,
   "id": "87cec731-edd6-4768-bffa-3c38b96e2faa",
   "metadata": {},
   "outputs": [],
   "source": [
    "# to get the updated record \n",
    "update_new_record = new_records.union(new_updated_data)"
   ]
  },
  {
   "cell_type": "code",
   "execution_count": 26,
   "id": "9c90ef8c-fe5a-4839-8595-167232e8bc4a",
   "metadata": {
    "scrolled": true
   },
   "outputs": [
    {
     "name": "stdout",
     "output_type": "stream",
     "text": [
      "+-------+----------+----------+-----------+----------+---+------------+--------------+------------+\n",
      "|user_id|created_at|updated_at|user_status|deleted_at|id |current_flag|effective_date|expired_date|\n",
      "+-------+----------+----------+-----------+----------+---+------------+--------------+------------+\n",
      "+-------+----------+----------+-----------+----------+---+------------+--------------+------------+\n",
      "\n"
     ]
    }
   ],
   "source": [
    "update_new_record.show(10,False,False)"
   ]
  },
  {
   "cell_type": "code",
   "execution_count": 27,
   "id": "b86bcd2f-94ed-41e2-bcef-91f4f80459cf",
   "metadata": {},
   "outputs": [
    {
     "name": "stdout",
     "output_type": "stream",
     "text": [
      "+-------+----------+----------+-----------+----------+---+------------+--------------+------------+\n",
      "|user_id|created_at|updated_at|user_status|deleted_at|id |current_flag|effective_date|expired_date|\n",
      "+-------+----------+----------+-----------+----------+---+------------+--------------+------------+\n",
      "+-------+----------+----------+-----------+----------+---+------------+--------------+------------+\n",
      "\n"
     ]
    }
   ],
   "source": [
    "bronze_users.show(10,False,False)"
   ]
  },
  {
   "cell_type": "code",
   "execution_count": 28,
   "id": "a1fba090-2cff-4589-9f2b-413a6adb187d",
   "metadata": {
    "scrolled": true
   },
   "outputs": [
    {
     "name": "stdout",
     "output_type": "stream",
     "text": [
      "+-------+----------+----------+-----------+----------+------------------------------------+------------+--------------------------+--------------------------+\n",
      "|user_id|created_at|updated_at|user_status|deleted_at|id                                  |current_flag|effective_date            |expired_date              |\n",
      "+-------+----------+----------+-----------+----------+------------------------------------+------------+--------------------------+--------------------------+\n",
      "|user4  |2024-02-01|2024-02-05|inactive   |2024-02-05|ec52cf68-1881-476a-b68b-96d1d85c5a65|N           |2024-02-11 13:29:16.612573|2024-02-11 13:29:16.612573|\n",
      "|user5  |2023-02-05|2024-02-05|active     |NULL      |fedf0115-ff10-4f5e-bd9b-32976415cd56|Y           |2024-02-11 13:29:16.612573|NULL                      |\n",
      "|user3  |2022-02-04|2023-02-04|inactive   |2024-02-04|1b0232de-8177-44f2-8f51-708c359f4a90|Y           |2024-02-11 13:29:12.720104|NULL                      |\n",
      "|user1  |2023-02-05|2024-02-02|active     |NULL      |5a4f557b-0b1a-48cc-b474-b6013ba077cd|N           |2024-02-11 13:29:12.720104|2024-02-11 13:29:14.325476|\n",
      "|user1  |2024-02-05|2024-02-05|inactive   |2024-02-05|ea733d66-1977-4e4c-972e-04d83ee791a7|N           |2024-02-11 13:29:16.612573|2024-02-11 13:29:16.612573|\n",
      "|user3  |2024-02-04|2024-02-04|new        |NULL      |20961a31-af14-4c78-b3a9-b87357109be0|Y           |2024-02-11 13:29:16.612573|NULL                      |\n",
      "|user2  |2023-02-02|2024-02-02|pending    |NULL      |c813a01d-4384-4243-81c9-a4c99577eee8|Y           |2024-02-11 13:29:12.720104|NULL                      |\n",
      "+-------+----------+----------+-----------+----------+------------------------------------+------------+--------------------------+--------------------------+\n",
      "\n"
     ]
    }
   ],
   "source": [
    "silver_users.show(10,False,False)"
   ]
  },
  {
   "cell_type": "code",
   "execution_count": 29,
   "id": "fe875ecc-e50e-4684-bdbe-28fbace0b37f",
   "metadata": {},
   "outputs": [],
   "source": [
    "if not os.path.exists(f\"{delta_path}/bronze_user\"):\n",
    "    bronze_users.write.mode(saveMode=\"overwrite\").format(\"delta\").save(f\"data/delta/test{path_suffix}/bronze_user\")\n",
    "if not os.path.exists(f\"{delta_path}/silver_user\"):\n",
    "    silver_users.write.mode(saveMode=\"overwrite\").format(\"delta\").save(f\"data/delta/test{path_suffix}/silver_user\")"
   ]
  },
  {
   "cell_type": "code",
   "execution_count": 30,
   "id": "5a5ade0c-7c40-4c06-b664-ff94174a3ba7",
   "metadata": {},
   "outputs": [],
   "source": [
    "silverDeltaTable = DeltaTable.forPath(spark, f\"data/delta/test{path_suffix}/silver_user\")"
   ]
  },
  {
   "cell_type": "code",
   "execution_count": 31,
   "id": "b239b9f7-aeb3-4056-b118-434b651d0915",
   "metadata": {},
   "outputs": [
    {
     "name": "stdout",
     "output_type": "stream",
     "text": [
      "+-------+----------+----------+-----------+----------+------------------------------------+------------+--------------------------+--------------------------+\n",
      "|user_id|created_at|updated_at|user_status|deleted_at|id                                  |current_flag|effective_date            |expired_date              |\n",
      "+-------+----------+----------+-----------+----------+------------------------------------+------------+--------------------------+--------------------------+\n",
      "|user4  |2024-02-01|2024-02-05|inactive   |2024-02-05|ec52cf68-1881-476a-b68b-96d1d85c5a65|N           |2024-02-11 13:29:16.612573|2024-02-11 13:29:16.612573|\n",
      "|user5  |2023-02-05|2024-02-05|active     |NULL      |fedf0115-ff10-4f5e-bd9b-32976415cd56|Y           |2024-02-11 13:29:16.612573|NULL                      |\n",
      "|user3  |2022-02-04|2023-02-04|inactive   |2024-02-04|1b0232de-8177-44f2-8f51-708c359f4a90|Y           |2024-02-11 13:29:12.720104|NULL                      |\n",
      "|user1  |2023-02-05|2024-02-02|active     |NULL      |5a4f557b-0b1a-48cc-b474-b6013ba077cd|N           |2024-02-11 13:29:12.720104|2024-02-11 13:29:14.325476|\n",
      "|user1  |2024-02-05|2024-02-05|inactive   |2024-02-05|ea733d66-1977-4e4c-972e-04d83ee791a7|N           |2024-02-11 13:29:16.612573|2024-02-11 13:29:16.612573|\n",
      "|user3  |2024-02-04|2024-02-04|new        |NULL      |20961a31-af14-4c78-b3a9-b87357109be0|Y           |2024-02-11 13:29:16.612573|NULL                      |\n",
      "|user2  |2023-02-02|2024-02-02|pending    |NULL      |c813a01d-4384-4243-81c9-a4c99577eee8|Y           |2024-02-11 13:29:12.720104|NULL                      |\n",
      "+-------+----------+----------+-----------+----------+------------------------------------+------------+--------------------------+--------------------------+\n",
      "\n"
     ]
    }
   ],
   "source": [
    "silverDeltaTable.toDF().show(10,False,False)"
   ]
  },
  {
   "cell_type": "code",
   "execution_count": 32,
   "id": "23cb7f82-9cb8-4926-804f-e4820043866a",
   "metadata": {},
   "outputs": [
    {
     "name": "stdout",
     "output_type": "stream",
     "text": [
      "+-------+----------+----------+-----------+----------+---+------------+--------------+------------+\n",
      "|user_id|created_at|updated_at|user_status|deleted_at| id|current_flag|effective_date|expired_date|\n",
      "+-------+----------+----------+-----------+----------+---+------------+--------------+------------+\n",
      "+-------+----------+----------+-----------+----------+---+------------+--------------+------------+\n",
      "\n"
     ]
    }
   ],
   "source": [
    "bronze_users.show()"
   ]
  },
  {
   "cell_type": "code",
   "execution_count": 33,
   "id": "32b582b4-4b33-4b57-abca-aecd93a6d4da",
   "metadata": {},
   "outputs": [],
   "source": [
    "# check the change record "
   ]
  },
  {
   "cell_type": "code",
   "execution_count": 34,
   "id": "addf7d56-fd9a-4753-bf3f-a5890848a399",
   "metadata": {},
   "outputs": [],
   "source": [
    "# update to delta\n",
    "silverDeltaTable.alias(\"oldData\") \\\n",
    "    .merge(\n",
    "        new_updated_data.alias(\"newData\"),\n",
    "        (col(\"oldData.user_id\") == col(\"newData.user_id\"))\n",
    "        \n",
    "    ) \\\n",
    "    .whenMatchedUpdate(\n",
    "        condition=(\n",
    "            (col(\"oldData.updated_at\") != col(\"newData.updated_at\"))),\n",
    "            set = {\n",
    "        \"current_flag\": \"newData.current_flag\",\n",
    "        \"expired_date\": \"newData.expired_date\"\n",
    "    }\n",
    "    ) \\\n",
    "    .execute()"
   ]
  },
  {
   "cell_type": "code",
   "execution_count": 35,
   "id": "099ba47e-bf74-46a0-9001-7ead620a8b66",
   "metadata": {},
   "outputs": [
    {
     "name": "stdout",
     "output_type": "stream",
     "text": [
      "+-------+----------+----------+-----------+----------+------------------------------------+------------+--------------------------+--------------------------+\n",
      "|user_id|created_at|updated_at|user_status|deleted_at|id                                  |current_flag|effective_date            |expired_date              |\n",
      "+-------+----------+----------+-----------+----------+------------------------------------+------------+--------------------------+--------------------------+\n",
      "|user4  |2024-02-01|2024-02-05|inactive   |2024-02-05|ec52cf68-1881-476a-b68b-96d1d85c5a65|N           |2024-02-11 13:29:16.612573|2024-02-11 13:29:16.612573|\n",
      "|user5  |2023-02-05|2024-02-05|active     |NULL      |fedf0115-ff10-4f5e-bd9b-32976415cd56|Y           |2024-02-11 13:29:16.612573|NULL                      |\n",
      "|user3  |2022-02-04|2023-02-04|inactive   |2024-02-04|1b0232de-8177-44f2-8f51-708c359f4a90|Y           |2024-02-11 13:29:12.720104|NULL                      |\n",
      "|user1  |2023-02-05|2024-02-02|active     |NULL      |5a4f557b-0b1a-48cc-b474-b6013ba077cd|N           |2024-02-11 13:29:12.720104|2024-02-11 13:29:14.325476|\n",
      "|user1  |2024-02-05|2024-02-05|inactive   |2024-02-05|ea733d66-1977-4e4c-972e-04d83ee791a7|N           |2024-02-11 13:29:16.612573|2024-02-11 13:29:16.612573|\n",
      "|user3  |2024-02-04|2024-02-04|new        |NULL      |20961a31-af14-4c78-b3a9-b87357109be0|Y           |2024-02-11 13:29:16.612573|NULL                      |\n",
      "|user2  |2023-02-02|2024-02-02|pending    |NULL      |c813a01d-4384-4243-81c9-a4c99577eee8|Y           |2024-02-11 13:29:12.720104|NULL                      |\n",
      "+-------+----------+----------+-----------+----------+------------------------------------+------------+--------------------------+--------------------------+\n",
      "\n"
     ]
    }
   ],
   "source": [
    "silverDeltaTable.toDF().show(10, False, False)"
   ]
  },
  {
   "cell_type": "code",
   "execution_count": 36,
   "id": "d7649043-93e1-4542-bf08-85851688b381",
   "metadata": {},
   "outputs": [
    {
     "name": "stdout",
     "output_type": "stream",
     "text": [
      "+-------+----------+----------+-----------+----------+---+------------+--------------+------------+\n",
      "|user_id|created_at|updated_at|user_status|deleted_at|id |current_flag|effective_date|expired_date|\n",
      "+-------+----------+----------+-----------+----------+---+------------+--------------+------------+\n",
      "+-------+----------+----------+-----------+----------+---+------------+--------------+------------+\n",
      "\n"
     ]
    }
   ],
   "source": [
    "new_updated_data.show(10,False,False)"
   ]
  },
  {
   "cell_type": "code",
   "execution_count": 37,
   "id": "4d3eb557-2a5c-40ad-b6c2-7a45023f9aaf",
   "metadata": {},
   "outputs": [
    {
     "name": "stdout",
     "output_type": "stream",
     "text": [
      "+-------+----------+----------+-----------+----------+------------------------------------+------------+--------------------------+--------------------------+\n",
      "|user_id|created_at|updated_at|user_status|deleted_at|id                                  |current_flag|effective_date            |expired_date              |\n",
      "+-------+----------+----------+-----------+----------+------------------------------------+------------+--------------------------+--------------------------+\n",
      "|user4  |2024-02-01|2024-02-05|inactive   |2024-02-05|ec52cf68-1881-476a-b68b-96d1d85c5a65|N           |2024-02-11 13:29:16.612573|2024-02-11 13:29:16.612573|\n",
      "|user5  |2023-02-05|2024-02-05|active     |NULL      |fedf0115-ff10-4f5e-bd9b-32976415cd56|Y           |2024-02-11 13:29:16.612573|NULL                      |\n",
      "|user3  |2022-02-04|2023-02-04|inactive   |2024-02-04|1b0232de-8177-44f2-8f51-708c359f4a90|Y           |2024-02-11 13:29:12.720104|NULL                      |\n",
      "|user1  |2023-02-05|2024-02-02|active     |NULL      |5a4f557b-0b1a-48cc-b474-b6013ba077cd|N           |2024-02-11 13:29:12.720104|2024-02-11 13:29:14.325476|\n",
      "|user1  |2024-02-05|2024-02-05|inactive   |2024-02-05|ea733d66-1977-4e4c-972e-04d83ee791a7|N           |2024-02-11 13:29:16.612573|2024-02-11 13:29:16.612573|\n",
      "|user3  |2024-02-04|2024-02-04|new        |NULL      |20961a31-af14-4c78-b3a9-b87357109be0|Y           |2024-02-11 13:29:16.612573|NULL                      |\n",
      "|user2  |2023-02-02|2024-02-02|pending    |NULL      |c813a01d-4384-4243-81c9-a4c99577eee8|Y           |2024-02-11 13:29:12.720104|NULL                      |\n",
      "+-------+----------+----------+-----------+----------+------------------------------------+------------+--------------------------+--------------------------+\n",
      "\n"
     ]
    }
   ],
   "source": [
    "silver_users.show(10,False,False)"
   ]
  },
  {
   "cell_type": "code",
   "execution_count": 38,
   "id": "a158a346-322a-4673-bf60-cb22a41914ff",
   "metadata": {
    "scrolled": true
   },
   "outputs": [
    {
     "name": "stdout",
     "output_type": "stream",
     "text": [
      "+-------+----------+----------+-----------+----------+---+------------+--------------+------------+\n",
      "|user_id|created_at|updated_at|user_status|deleted_at|id |current_flag|effective_date|expired_date|\n",
      "+-------+----------+----------+-----------+----------+---+------------+--------------+------------+\n",
      "+-------+----------+----------+-----------+----------+---+------------+--------------+------------+\n",
      "\n"
     ]
    }
   ],
   "source": [
    "update_new_record.show(10,False,False)"
   ]
  },
  {
   "cell_type": "code",
   "execution_count": 39,
   "id": "eccd3de1-91e1-41a8-af6f-d28daa6eaf3f",
   "metadata": {},
   "outputs": [
    {
     "name": "stdout",
     "output_type": "stream",
     "text": [
      "+-------+----------+----------+-----------+----------+---+------------+--------------+------------+\n",
      "|user_id|created_at|updated_at|user_status|deleted_at|id |current_flag|effective_date|expired_date|\n",
      "+-------+----------+----------+-----------+----------+---+------------+--------------+------------+\n",
      "+-------+----------+----------+-----------+----------+---+------------+--------------+------------+\n",
      "\n"
     ]
    }
   ],
   "source": [
    "new_records.show(10,False,False)"
   ]
  },
  {
   "cell_type": "code",
   "execution_count": 40,
   "id": "6a7fd78f-ca3e-4750-ba38-dff815a7cf19",
   "metadata": {},
   "outputs": [],
   "source": [
    "silverDeltaTable.alias(\"oldData\") \\\n",
    "    .merge(\n",
    "        update_new_record.alias(\"newData\"),\n",
    "        (col(\"oldData.id\") == col(\"newData.id\"))\n",
    "    ) \\\n",
    "    .whenNotMatchedInsertAll() \\\n",
    "    .execute()"
   ]
  },
  {
   "cell_type": "code",
   "execution_count": 41,
   "id": "88a0c334-7438-4472-8250-0887e1ecd39c",
   "metadata": {},
   "outputs": [
    {
     "name": "stdout",
     "output_type": "stream",
     "text": [
      "+-------+----------+----------+-----------+----------+------------------------------------+------------+--------------------------+--------------------------+\n",
      "|user_id|created_at|updated_at|user_status|deleted_at|id                                  |current_flag|effective_date            |expired_date              |\n",
      "+-------+----------+----------+-----------+----------+------------------------------------+------------+--------------------------+--------------------------+\n",
      "|user4  |2024-02-01|2024-02-05|inactive   |2024-02-05|ec52cf68-1881-476a-b68b-96d1d85c5a65|N           |2024-02-11 13:29:16.612573|2024-02-11 13:29:16.612573|\n",
      "|user5  |2023-02-05|2024-02-05|active     |NULL      |fedf0115-ff10-4f5e-bd9b-32976415cd56|Y           |2024-02-11 13:29:16.612573|NULL                      |\n",
      "|user3  |2022-02-04|2023-02-04|inactive   |2024-02-04|1b0232de-8177-44f2-8f51-708c359f4a90|Y           |2024-02-11 13:29:12.720104|NULL                      |\n",
      "|user1  |2023-02-05|2024-02-02|active     |NULL      |5a4f557b-0b1a-48cc-b474-b6013ba077cd|N           |2024-02-11 13:29:12.720104|2024-02-11 13:29:14.325476|\n",
      "|user1  |2024-02-05|2024-02-05|inactive   |2024-02-05|ea733d66-1977-4e4c-972e-04d83ee791a7|N           |2024-02-11 13:29:16.612573|2024-02-11 13:29:16.612573|\n",
      "|user3  |2024-02-04|2024-02-04|new        |NULL      |20961a31-af14-4c78-b3a9-b87357109be0|Y           |2024-02-11 13:29:16.612573|NULL                      |\n",
      "|user2  |2023-02-02|2024-02-02|pending    |NULL      |c813a01d-4384-4243-81c9-a4c99577eee8|Y           |2024-02-11 13:29:12.720104|NULL                      |\n",
      "+-------+----------+----------+-----------+----------+------------------------------------+------------+--------------------------+--------------------------+\n",
      "\n"
     ]
    }
   ],
   "source": [
    "silverDeltaTable.toDF().show(20,False,False)"
   ]
  },
  {
   "cell_type": "code",
   "execution_count": 42,
   "id": "e99addcd-3412-4c71-9d26-7e247aaf47ff",
   "metadata": {},
   "outputs": [
    {
     "name": "stdout",
     "output_type": "stream",
     "text": [
      "+-------+----------+----------+-----------+----------+------------------------------------+------------+--------------------------+--------------------------+\n",
      "|user_id|created_at|updated_at|user_status|deleted_at|id                                  |current_flag|effective_date            |expired_date              |\n",
      "+-------+----------+----------+-----------+----------+------------------------------------+------------+--------------------------+--------------------------+\n",
      "|user4  |2024-02-01|2024-02-05|inactive   |2024-02-05|ec52cf68-1881-476a-b68b-96d1d85c5a65|N           |2024-02-11 13:29:16.612573|2024-02-11 13:29:16.612573|\n",
      "|user5  |2023-02-05|2024-02-05|active     |NULL      |fedf0115-ff10-4f5e-bd9b-32976415cd56|Y           |2024-02-11 13:29:16.612573|NULL                      |\n",
      "|user3  |2022-02-04|2023-02-04|inactive   |2024-02-04|1b0232de-8177-44f2-8f51-708c359f4a90|Y           |2024-02-11 13:29:12.720104|NULL                      |\n",
      "|user1  |2023-02-05|2024-02-02|active     |NULL      |5a4f557b-0b1a-48cc-b474-b6013ba077cd|N           |2024-02-11 13:29:12.720104|2024-02-11 13:29:14.325476|\n",
      "|user1  |2024-02-05|2024-02-05|inactive   |2024-02-05|ea733d66-1977-4e4c-972e-04d83ee791a7|N           |2024-02-11 13:29:16.612573|2024-02-11 13:29:16.612573|\n",
      "|user3  |2024-02-04|2024-02-04|new        |NULL      |20961a31-af14-4c78-b3a9-b87357109be0|Y           |2024-02-11 13:29:16.612573|NULL                      |\n",
      "|user2  |2023-02-02|2024-02-02|pending    |NULL      |c813a01d-4384-4243-81c9-a4c99577eee8|Y           |2024-02-11 13:29:12.720104|NULL                      |\n",
      "+-------+----------+----------+-----------+----------+------------------------------------+------------+--------------------------+--------------------------+\n",
      "\n"
     ]
    }
   ],
   "source": [
    "silver_users.show(10,False,False)"
   ]
  },
  {
   "cell_type": "code",
   "execution_count": 43,
   "id": "28299553-b6a1-4372-9e9d-4019857f7a27",
   "metadata": {},
   "outputs": [
    {
     "name": "stdout",
     "output_type": "stream",
     "text": [
      "+-------+----------+----------+-----------+----------+---+------------+--------------+------------+\n",
      "|user_id|created_at|updated_at|user_status|deleted_at|id |current_flag|effective_date|expired_date|\n",
      "+-------+----------+----------+-----------+----------+---+------------+--------------+------------+\n",
      "+-------+----------+----------+-----------+----------+---+------------+--------------+------------+\n",
      "\n"
     ]
    }
   ],
   "source": [
    "bronze_users.show(10,False,False)"
   ]
  },
  {
   "cell_type": "code",
   "execution_count": 44,
   "id": "df8d2542-1c19-428c-b53b-73ac7b59b8d8",
   "metadata": {},
   "outputs": [],
   "source": [
    "spark.stop()"
   ]
  }
 ],
 "metadata": {
  "kernelspec": {
   "display_name": "Python 3 (ipykernel)",
   "language": "python",
   "name": "python3"
  },
  "language_info": {
   "codemirror_mode": {
    "name": "ipython",
    "version": 3
   },
   "file_extension": ".py",
   "mimetype": "text/x-python",
   "name": "python",
   "nbconvert_exporter": "python",
   "pygments_lexer": "ipython3",
   "version": "3.8.18"
  }
 },
 "nbformat": 4,
 "nbformat_minor": 5
}
