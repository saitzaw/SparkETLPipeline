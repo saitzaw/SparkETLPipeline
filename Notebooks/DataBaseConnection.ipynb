{
 "cells": [
  {
   "cell_type": "code",
   "execution_count": 1,
   "id": "01bfe604-794d-41a2-b996-c8162fbcdd5b",
   "metadata": {},
   "outputs": [],
   "source": [
    "import pandas as pd"
   ]
  },
  {
   "cell_type": "code",
   "execution_count": 2,
   "id": "27b32efd-ec36-49b4-a926-aecfe74301af",
   "metadata": {},
   "outputs": [],
   "source": [
    "from db import DBConnx"
   ]
  },
  {
   "cell_type": "code",
   "execution_count": 3,
   "id": "708c10cf-f41d-43eb-8880-fe595042211e",
   "metadata": {},
   "outputs": [],
   "source": [
    "df = pd.read_sql_query(\"SELECT * FROM erp_open_invoice\", con = DBConnx().csm_staging_engine())"
   ]
  }
 ],
 "metadata": {
  "kernelspec": {
   "display_name": "Python 3 (ipykernel)",
   "language": "python",
   "name": "python3"
  },
  "language_info": {
   "codemirror_mode": {
    "name": "ipython",
    "version": 3
   },
   "file_extension": ".py",
   "mimetype": "text/x-python",
   "name": "python",
   "nbconvert_exporter": "python",
   "pygments_lexer": "ipython3",
   "version": "3.9.15"
  }
 },
 "nbformat": 4,
 "nbformat_minor": 5
}
