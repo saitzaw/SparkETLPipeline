{
 "cells": [
  {
   "cell_type": "code",
   "execution_count": 1,
   "id": "52a0cc0e-54c6-4851-b20e-dddcda2d9fdc",
   "metadata": {},
   "outputs": [],
   "source": [
    "from pyspark.sql import functions\n",
    "from pyspark.sql.functions import when, count, isnan, col\n",
    "from datetime import datetime as dt"
   ]
  },
  {
   "cell_type": "code",
   "execution_count": 2,
   "id": "f4a01520-8fe5-4b28-9580-54c7143e8b16",
   "metadata": {},
   "outputs": [],
   "source": [
    "from pyspark.sql import SparkSession"
   ]
  },
  {
   "cell_type": "code",
   "execution_count": 3,
   "id": "80c5c26c-e821-46fc-8d2a-38c84d87ab52",
   "metadata": {},
   "outputs": [
    {
     "name": "stderr",
     "output_type": "stream",
     "text": [
      "23/10/25 23:17:59 WARN Utils: Your hostname, pop-os resolves to a loopback address: 127.0.1.1; using 192.168.100.5 instead (on interface wlo1)\n",
      "23/10/25 23:17:59 WARN Utils: Set SPARK_LOCAL_IP if you need to bind to another address\n",
      "23/10/25 23:18:00 WARN NativeCodeLoader: Unable to load native-hadoop library for your platform... using builtin-java classes where applicable\n",
      "Setting default log level to \"WARN\".\n",
      "To adjust logging level use sc.setLogLevel(newLevel). For SparkR, use setLogLevel(newLevel).\n"
     ]
    }
   ],
   "source": [
    "spark = SparkSession.builder.master(\"spark://pop-os.localdomain:7077\")\\\n",
    "    .appName(\"MoM.com\")\\\n",
    "    .config(\"spark.jars\", \"mysql-connector-j-8.0.33.jar\")\\\n",
    "    .config(\"spark.driver.memory\", \"8g\")\\\n",
    "    .config(\"spark.executor.memory\", \"14g\").getOrCreate()"
   ]
  },
  {
   "cell_type": "code",
   "execution_count": 4,
   "id": "aeb6b568-ce85-4737-ab89-7d7f55f29ed6",
   "metadata": {
    "scrolled": true
   },
   "outputs": [
    {
     "data": {
      "text/html": [
       "\n",
       "            <div>\n",
       "                <p><b>SparkSession - in-memory</b></p>\n",
       "                \n",
       "        <div>\n",
       "            <p><b>SparkContext</b></p>\n",
       "\n",
       "            <p><a href=\"http://192.168.100.5:4040\">Spark UI</a></p>\n",
       "\n",
       "            <dl>\n",
       "              <dt>Version</dt>\n",
       "                <dd><code>v3.5.0</code></dd>\n",
       "              <dt>Master</dt>\n",
       "                <dd><code>spark://pop-os.localdomain:7077</code></dd>\n",
       "              <dt>AppName</dt>\n",
       "                <dd><code>MoM.com</code></dd>\n",
       "            </dl>\n",
       "        </div>\n",
       "        \n",
       "            </div>\n",
       "        "
      ],
      "text/plain": [
       "<pyspark.sql.session.SparkSession at 0x7f2c927053d0>"
      ]
     },
     "execution_count": 4,
     "metadata": {},
     "output_type": "execute_result"
    }
   ],
   "source": [
    "spark"
   ]
  },
  {
   "cell_type": "code",
   "execution_count": 5,
   "id": "99ad6775-d7a9-4852-809f-b77f1fdf48af",
   "metadata": {},
   "outputs": [
    {
     "data": {
      "text/plain": [
       "['/opt/spark/conf/spark-config.conf']"
      ]
     },
     "execution_count": 5,
     "metadata": {},
     "output_type": "execute_result"
    }
   ],
   "source": [
    "import configparser\n",
    "config_file_path = \"/opt/spark/conf/spark-config.conf\"\n",
    "# Read secrete from config\n",
    "config = configparser.ConfigParser()\n",
    "config.read(config_file_path)"
   ]
  },
  {
   "cell_type": "code",
   "execution_count": 6,
   "id": "40627c84-9578-41ed-b790-fa9aeec7a228",
   "metadata": {},
   "outputs": [],
   "source": [
    "def read_from_mysql(spark, table_name):\n",
    "    dbDriver = config.get(\"db\", \"driver\")\n",
    "    dbUrl = config.get(\"db\", \"url\")\n",
    "    dbUsername = config.get(\"db\", \"username\")\n",
    "    dbPassword = config.get(\"db\", \"password\")\n",
    "    return (\n",
    "        spark.read.format(\"jdbc\")\n",
    "        .option(\"driver\", dbDriver)\n",
    "        .option(\"url\", dbUrl)\n",
    "        .option(\"dbtable\", table_name)\n",
    "        .option(\"user\", dbUsername)\n",
    "        .option(\"password\", dbPassword)\n",
    "        .load()\n",
    "    )"
   ]
  },
  {
   "cell_type": "code",
   "execution_count": 7,
   "id": "563da1cc-9681-42e9-a77a-93e38f8e25bd",
   "metadata": {},
   "outputs": [],
   "source": [
    "df = read_from_mysql(spark, \"Sales\")"
   ]
  },
  {
   "cell_type": "code",
   "execution_count": 8,
   "id": "2fa3d5a7-978e-493a-8588-4400e212bef4",
   "metadata": {},
   "outputs": [
    {
     "name": "stderr",
     "output_type": "stream",
     "text": [
      "                                                                                \r"
     ]
    },
    {
     "name": "stdout",
     "output_type": "stream",
     "text": [
      "+-------+----------+-------+\n",
      "|sale_id| sale_date|revenue|\n",
      "+-------+----------+-------+\n",
      "|      1|2022-01-31| 651.15|\n",
      "|      2|2022-02-28| 761.09|\n",
      "|      3|2022-03-31| 654.18|\n",
      "|      4|2022-04-30| 987.64|\n",
      "|      5|2022-05-31| 975.64|\n",
      "|      6|2022-06-30| 915.30|\n",
      "|      7|2022-07-31| 649.55|\n",
      "|      8|2022-08-31| 501.87|\n",
      "|      9|2022-09-30| 560.70|\n",
      "|     10|2022-10-31| 720.50|\n",
      "|     11|2022-11-30| 807.34|\n",
      "|     12|2022-12-31| 980.20|\n",
      "+-------+----------+-------+\n",
      "\n"
     ]
    }
   ],
   "source": [
    "df.show()"
   ]
  },
  {
   "cell_type": "code",
   "execution_count": 9,
   "id": "3917a174-b594-40ed-a025-c262cac299ab",
   "metadata": {},
   "outputs": [],
   "source": [
    "df.createOrReplaceTempView(\"mom_table\")"
   ]
  },
  {
   "cell_type": "code",
   "execution_count": 10,
   "id": "bef3f93d-90e8-4221-9c03-db3a258ff3a1",
   "metadata": {},
   "outputs": [],
   "source": [
    "SQL_QUERY = \"\"\"WITH MonthlyRevenue AS (\n",
    "  SELECT\n",
    "    YEAR(sale_date) AS year,\n",
    "    MONTH(sale_date) AS month,\n",
    "    SUM(revenue) AS total_revenue\n",
    "  FROM mom_table\n",
    "  WHERE YEAR(sale_date) = 2022\n",
    "  GROUP BY year, month\n",
    ")\n",
    "SELECT\n",
    "  CONCAT(mr.year, '-', LPAD(mr.month, 2, '0')) AS month,\n",
    "  mr.total_revenue AS revenue,\n",
    "  mr.total_revenue - LAG(mr.total_revenue) OVER (ORDER BY mr.year, mr.month) AS delta,\n",
    "(mr.total_revenue - LAG(mr.total_revenue) OVER (ORDER BY mr.year, mr.month)) / LAG(mr.total_revenue) OVER (ORDER BY mr.year, mr.month) AS mom_growth_rate,\n",
    "  CASE\n",
    "    WHEN LAG(mr.total_revenue) OVER (ORDER BY mr.year, mr.month) IS NULL THEN 0.0\n",
    "    ELSE ((mr.total_revenue - LAG(mr.total_revenue) OVER (ORDER BY mr.year, mr.month)) / LAG(mr.total_revenue) OVER (ORDER BY mr.year, mr.month)) * 100.0\n",
    "  END AS mom_growth_percentage\n",
    "FROM MonthlyRevenue mr\n",
    "ORDER BY mr.year, mr.month;\"\"\""
   ]
  },
  {
   "cell_type": "code",
   "execution_count": 12,
   "id": "fcc13a8b-cdec-48e5-b1a7-a66e7fe9ec31",
   "metadata": {},
   "outputs": [
    {
     "name": "stderr",
     "output_type": "stream",
     "text": [
      "23/10/25 23:18:06 WARN WindowExec: No Partition Defined for Window operation! Moving all data to a single partition, this can cause serious performance degradation.\n",
      "23/10/25 23:18:06 WARN WindowExec: No Partition Defined for Window operation! Moving all data to a single partition, this can cause serious performance degradation.\n",
      "23/10/25 23:18:06 WARN WindowExec: No Partition Defined for Window operation! Moving all data to a single partition, this can cause serious performance degradation.\n",
      "23/10/25 23:18:07 WARN WindowExec: No Partition Defined for Window operation! Moving all data to a single partition, this can cause serious performance degradation.\n",
      "23/10/25 23:18:07 WARN WindowExec: No Partition Defined for Window operation! Moving all data to a single partition, this can cause serious performance degradation.\n",
      "23/10/25 23:18:07 WARN WindowExec: No Partition Defined for Window operation! Moving all data to a single partition, this can cause serious performance degradation.\n",
      "23/10/25 23:18:07 WARN WindowExec: No Partition Defined for Window operation! Moving all data to a single partition, this can cause serious performance degradation.\n"
     ]
    },
    {
     "name": "stdout",
     "output_type": "stream",
     "text": [
      "+-------+-------+-------+--------------------+---------------------+\n",
      "|  month|revenue|  delta|     mom_growth_rate|mom_growth_percentage|\n",
      "+-------+-------+-------+--------------------+---------------------+\n",
      "|2022-01| 651.15|   NULL|                NULL|      0.0000000000000|\n",
      "|2022-02| 761.09| 109.94| 0.16883974506642095|     16.8839745066421|\n",
      "|2022-03| 654.18|-106.91|-0.14046958966745063|    -14.0469589667451|\n",
      "|2022-04| 987.64| 333.46| 0.50973738114891926|     50.9737381148919|\n",
      "|2022-05| 975.64| -12.00|-0.01215017617755457|     -1.2150176177555|\n",
      "|2022-06| 915.30| -60.34|-0.06184658275593457|     -6.1846582755935|\n",
      "|2022-07| 649.55|-265.75|-0.29034196438326232|    -29.0341964383262|\n",
      "|2022-08| 501.87|-147.68|-0.22735740127780771|    -22.7357401277808|\n",
      "|2022-09| 560.70|  58.83| 0.11722159124872975|     11.7221591248730|\n",
      "|2022-10| 720.50| 159.80| 0.28500089174246478|     28.5000891742465|\n",
      "|2022-11| 807.34|  86.84| 0.12052741151977793|     12.0527411519778|\n",
      "|2022-12| 980.20| 172.86| 0.21411053583372557|     21.4110535833726|\n",
      "+-------+-------+-------+--------------------+---------------------+\n",
      "\n"
     ]
    }
   ],
   "source": [
    "spark.sql(SQL_QUERY).show()"
   ]
  },
  {
   "cell_type": "code",
   "execution_count": 13,
   "id": "c963ea8e-3c53-4801-af3a-85d2366c5813",
   "metadata": {},
   "outputs": [],
   "source": [
    "spark.stop()"
   ]
  }
 ],
 "metadata": {
  "kernelspec": {
   "display_name": "Python 3 (ipykernel)",
   "language": "python",
   "name": "python3"
  },
  "language_info": {
   "codemirror_mode": {
    "name": "ipython",
    "version": 3
   },
   "file_extension": ".py",
   "mimetype": "text/x-python",
   "name": "python",
   "nbconvert_exporter": "python",
   "pygments_lexer": "ipython3",
   "version": "3.9.15"
  }
 },
 "nbformat": 4,
 "nbformat_minor": 5
}
